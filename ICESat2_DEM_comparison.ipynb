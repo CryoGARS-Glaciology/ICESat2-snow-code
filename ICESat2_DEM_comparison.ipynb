{
 "cells": [
  {
   "cell_type": "markdown",
   "id": "d661c3cf",
   "metadata": {},
   "source": [
    "# ICESat-2 and Reference Elevation Comparison\n",
    "\n",
    "This notebook compares ICESat-2 elevations to snow-off reference elevations calculted from DTM_reference_elevations_calculation_sliderulecsv.m or DTM_reference_elevations_calculation.m\n",
    "\n",
    "Last updated by Karina Zikan July 2022"
   ]
  },
  {
   "cell_type": "code",
   "execution_count": 1,
   "id": "e4be01f1",
   "metadata": {},
   "outputs": [],
   "source": [
    "import pandas as pd\n",
    "import geopandas as gpd\n",
    "import matplotlib.pyplot as plt\n",
    "import numpy as np\n",
    "from shapely.geometry import Polygon, Point\n",
    "from mpl_toolkits.axes_grid1 import make_axes_locatable"
   ]
  },
  {
   "cell_type": "markdown",
   "id": "07c2faf5",
   "metadata": {},
   "source": [
    "## Define Inputs"
   ]
  },
  {
   "cell_type": "code",
   "execution_count": 2,
   "id": "55204184",
   "metadata": {},
   "outputs": [],
   "source": [
    "# File Paths\n",
    "icesat2 = 'RCEW/RCEW-ICESat2-ATL06sr-atl08class.csv'\n",
    "ref_elevations = 'RCEW/RCEW-ICESat2-ATL06sr-atl08class-ref-elevations.csv'\n",
    "# Site\n",
    "abbrev = 'RCEW'\n",
    "site = 'RCEW/boundRCEW/boundRCEW_WGS84.geojson' #border file\n",
    "# ICESat-2 acronym\n",
    "acronym = 'ATL08'"
   ]
  },
  {
   "cell_type": "markdown",
   "id": "7fbc8a16",
   "metadata": {},
   "source": [
    "## Load data"
   ]
  },
  {
   "cell_type": "code",
   "execution_count": 3,
   "id": "7701a96c",
   "metadata": {},
   "outputs": [],
   "source": [
    "icesat2 = pd.read_csv(icesat2)\n",
    "icesat2 = gpd.GeoDataFrame(icesat2)\n",
    "ref_elev = pd.read_csv(ref_elevations)\n",
    "ref_elev = gpd.GeoDataFrame(ref_elev)\n",
    "region = gpd.read_file(site)"
   ]
  },
  {
   "cell_type": "code",
   "execution_count": 4,
   "id": "72e395c0",
   "metadata": {},
   "outputs": [],
   "source": [
    "icesat2.geometry=gpd.points_from_xy(icesat2.Longitude, icesat2.Latitude)\n",
    "ref_elev.geometry=gpd.points_from_xy(icesat2.Longitude, icesat2.Latitude)"
   ]
  },
  {
   "cell_type": "markdown",
   "id": "c2095872",
   "metadata": {},
   "source": [
    "### Check data arrays"
   ]
  },
  {
   "cell_type": "code",
   "execution_count": 12,
   "id": "8cde35c5",
   "metadata": {},
   "outputs": [
    {
     "data": {
      "text/html": [
       "<div>\n",
       "<style scoped>\n",
       "    .dataframe tbody tr th:only-of-type {\n",
       "        vertical-align: middle;\n",
       "    }\n",
       "\n",
       "    .dataframe tbody tr th {\n",
       "        vertical-align: top;\n",
       "    }\n",
       "\n",
       "    .dataframe thead th {\n",
       "        text-align: right;\n",
       "    }\n",
       "</style>\n",
       "<table border=\"1\" class=\"dataframe\">\n",
       "  <thead>\n",
       "    <tr style=\"text-align: right;\">\n",
       "      <th></th>\n",
       "      <th>time</th>\n",
       "      <th>h_mean</th>\n",
       "      <th>segment_id</th>\n",
       "      <th>h_sigma</th>\n",
       "      <th>dh_fit_dy</th>\n",
       "      <th>n_fit_photons</th>\n",
       "      <th>rms_misfit</th>\n",
       "      <th>distance</th>\n",
       "      <th>pflags</th>\n",
       "      <th>rgt</th>\n",
       "      <th>...</th>\n",
       "      <th>dh_fit_dx</th>\n",
       "      <th>w_surface_window_final</th>\n",
       "      <th>cycle</th>\n",
       "      <th>spot</th>\n",
       "      <th>delta_time</th>\n",
       "      <th>geometry</th>\n",
       "      <th>Longitude</th>\n",
       "      <th>Latitude</th>\n",
       "      <th>Easting</th>\n",
       "      <th>Northing</th>\n",
       "    </tr>\n",
       "  </thead>\n",
       "  <tbody>\n",
       "    <tr>\n",
       "      <th>0</th>\n",
       "      <td>2018-11-26 21:09:05.940407724</td>\n",
       "      <td>1334.337122</td>\n",
       "      <td>239687</td>\n",
       "      <td>0.216088</td>\n",
       "      <td>0.0</td>\n",
       "      <td>12</td>\n",
       "      <td>0.389217</td>\n",
       "      <td>4.806611e+06</td>\n",
       "      <td>0</td>\n",
       "      <td>905</td>\n",
       "      <td>...</td>\n",
       "      <td>-0.175885</td>\n",
       "      <td>4.526581</td>\n",
       "      <td>1</td>\n",
       "      <td>6</td>\n",
       "      <td>2.850175e+07</td>\n",
       "      <td>POINT (-116.69469 43.18609)</td>\n",
       "      <td>-116.694691</td>\n",
       "      <td>43.186091</td>\n",
       "      <td>524810.037093</td>\n",
       "      <td>4.781525e+06</td>\n",
       "    </tr>\n",
       "    <tr>\n",
       "      <th>1</th>\n",
       "      <td>2018-11-26 21:09:06.007120300</td>\n",
       "      <td>1423.868211</td>\n",
       "      <td>239590</td>\n",
       "      <td>0.127058</td>\n",
       "      <td>0.0</td>\n",
       "      <td>14</td>\n",
       "      <td>0.455983</td>\n",
       "      <td>4.804667e+06</td>\n",
       "      <td>0</td>\n",
       "      <td>905</td>\n",
       "      <td>...</td>\n",
       "      <td>-0.260151</td>\n",
       "      <td>6.661973</td>\n",
       "      <td>1</td>\n",
       "      <td>5</td>\n",
       "      <td>2.850175e+07</td>\n",
       "      <td>POINT (-116.69146 43.16874)</td>\n",
       "      <td>-116.691463</td>\n",
       "      <td>43.168739</td>\n",
       "      <td>525079.458744</td>\n",
       "      <td>4.779599e+06</td>\n",
       "    </tr>\n",
       "    <tr>\n",
       "      <th>2</th>\n",
       "      <td>2018-11-26 21:09:06.009937656</td>\n",
       "      <td>1419.190789</td>\n",
       "      <td>239591</td>\n",
       "      <td>0.092447</td>\n",
       "      <td>0.0</td>\n",
       "      <td>19</td>\n",
       "      <td>0.402960</td>\n",
       "      <td>4.804687e+06</td>\n",
       "      <td>0</td>\n",
       "      <td>905</td>\n",
       "      <td>...</td>\n",
       "      <td>-0.225228</td>\n",
       "      <td>5.775791</td>\n",
       "      <td>1</td>\n",
       "      <td>5</td>\n",
       "      <td>2.850175e+07</td>\n",
       "      <td>POINT (-116.69149 43.16892)</td>\n",
       "      <td>-116.691486</td>\n",
       "      <td>43.168918</td>\n",
       "      <td>525077.461122</td>\n",
       "      <td>4.779619e+06</td>\n",
       "    </tr>\n",
       "    <tr>\n",
       "      <th>3</th>\n",
       "      <td>2018-11-26 21:09:06.012749052</td>\n",
       "      <td>1415.312079</td>\n",
       "      <td>239592</td>\n",
       "      <td>0.087934</td>\n",
       "      <td>0.0</td>\n",
       "      <td>14</td>\n",
       "      <td>0.327415</td>\n",
       "      <td>4.804707e+06</td>\n",
       "      <td>0</td>\n",
       "      <td>905</td>\n",
       "      <td>...</td>\n",
       "      <td>-0.105756</td>\n",
       "      <td>3.384974</td>\n",
       "      <td>1</td>\n",
       "      <td>5</td>\n",
       "      <td>2.850175e+07</td>\n",
       "      <td>POINT (-116.69151 43.16910)</td>\n",
       "      <td>-116.691510</td>\n",
       "      <td>43.169098</td>\n",
       "      <td>525075.448380</td>\n",
       "      <td>4.779639e+06</td>\n",
       "    </tr>\n",
       "    <tr>\n",
       "      <th>4</th>\n",
       "      <td>2018-11-26 21:09:06.021148344</td>\n",
       "      <td>1410.601461</td>\n",
       "      <td>239595</td>\n",
       "      <td>0.073023</td>\n",
       "      <td>0.0</td>\n",
       "      <td>11</td>\n",
       "      <td>0.175884</td>\n",
       "      <td>4.804767e+06</td>\n",
       "      <td>0</td>\n",
       "      <td>905</td>\n",
       "      <td>...</td>\n",
       "      <td>-0.110525</td>\n",
       "      <td>3.000000</td>\n",
       "      <td>1</td>\n",
       "      <td>5</td>\n",
       "      <td>2.850175e+07</td>\n",
       "      <td>POINT (-116.69158 43.16964)</td>\n",
       "      <td>-116.691582</td>\n",
       "      <td>43.169636</td>\n",
       "      <td>525069.366480</td>\n",
       "      <td>4.779699e+06</td>\n",
       "    </tr>\n",
       "  </tbody>\n",
       "</table>\n",
       "<p>5 rows × 21 columns</p>\n",
       "</div>"
      ],
      "text/plain": [
       "                            time       h_mean  segment_id   h_sigma  \\\n",
       "0  2018-11-26 21:09:05.940407724  1334.337122      239687  0.216088   \n",
       "1  2018-11-26 21:09:06.007120300  1423.868211      239590  0.127058   \n",
       "2  2018-11-26 21:09:06.009937656  1419.190789      239591  0.092447   \n",
       "3  2018-11-26 21:09:06.012749052  1415.312079      239592  0.087934   \n",
       "4  2018-11-26 21:09:06.021148344  1410.601461      239595  0.073023   \n",
       "\n",
       "   dh_fit_dy  n_fit_photons  rms_misfit      distance  pflags  rgt  ...  \\\n",
       "0        0.0             12    0.389217  4.806611e+06       0  905  ...   \n",
       "1        0.0             14    0.455983  4.804667e+06       0  905  ...   \n",
       "2        0.0             19    0.402960  4.804687e+06       0  905  ...   \n",
       "3        0.0             14    0.327415  4.804707e+06       0  905  ...   \n",
       "4        0.0             11    0.175884  4.804767e+06       0  905  ...   \n",
       "\n",
       "   dh_fit_dx  w_surface_window_final  cycle  spot    delta_time  \\\n",
       "0  -0.175885                4.526581      1     6  2.850175e+07   \n",
       "1  -0.260151                6.661973      1     5  2.850175e+07   \n",
       "2  -0.225228                5.775791      1     5  2.850175e+07   \n",
       "3  -0.105756                3.384974      1     5  2.850175e+07   \n",
       "4  -0.110525                3.000000      1     5  2.850175e+07   \n",
       "\n",
       "                      geometry   Longitude   Latitude        Easting  \\\n",
       "0  POINT (-116.69469 43.18609) -116.694691  43.186091  524810.037093   \n",
       "1  POINT (-116.69146 43.16874) -116.691463  43.168739  525079.458744   \n",
       "2  POINT (-116.69149 43.16892) -116.691486  43.168918  525077.461122   \n",
       "3  POINT (-116.69151 43.16910) -116.691510  43.169098  525075.448380   \n",
       "4  POINT (-116.69158 43.16964) -116.691582  43.169636  525069.366480   \n",
       "\n",
       "       Northing  \n",
       "0  4.781525e+06  \n",
       "1  4.779599e+06  \n",
       "2  4.779619e+06  \n",
       "3  4.779639e+06  \n",
       "4  4.779699e+06  \n",
       "\n",
       "[5 rows x 21 columns]"
      ]
     },
     "execution_count": 12,
     "metadata": {},
     "output_type": "execute_result"
    }
   ],
   "source": [
    "icesat2.head()"
   ]
  },
  {
   "cell_type": "code",
   "execution_count": 6,
   "id": "954921bc",
   "metadata": {},
   "outputs": [
    {
     "data": {
      "text/html": [
       "<div>\n",
       "<style scoped>\n",
       "    .dataframe tbody tr th:only-of-type {\n",
       "        vertical-align: middle;\n",
       "    }\n",
       "\n",
       "    .dataframe tbody tr th {\n",
       "        vertical-align: top;\n",
       "    }\n",
       "\n",
       "    .dataframe thead th {\n",
       "        text-align: right;\n",
       "    }\n",
       "</style>\n",
       "<table border=\"1\" class=\"dataframe\">\n",
       "  <thead>\n",
       "    <tr style=\"text-align: right;\">\n",
       "      <th></th>\n",
       "      <th>elevation_report_nw_mean</th>\n",
       "      <th>elevation_report_mean</th>\n",
       "      <th>elevation_report_fitted</th>\n",
       "      <th>elevation_report_std</th>\n",
       "      <th>geometry</th>\n",
       "    </tr>\n",
       "  </thead>\n",
       "  <tbody>\n",
       "    <tr>\n",
       "      <th>0</th>\n",
       "      <td>0.000</td>\n",
       "      <td>0.000</td>\n",
       "      <td>NaN</td>\n",
       "      <td>0.000000</td>\n",
       "      <td>POINT (-116.69469 43.18609)</td>\n",
       "    </tr>\n",
       "    <tr>\n",
       "      <th>1</th>\n",
       "      <td>1424.714</td>\n",
       "      <td>1424.704</td>\n",
       "      <td>1424.425781</td>\n",
       "      <td>3.577164</td>\n",
       "      <td>POINT (-116.69146 43.16874)</td>\n",
       "    </tr>\n",
       "    <tr>\n",
       "      <th>2</th>\n",
       "      <td>1419.768</td>\n",
       "      <td>1419.699</td>\n",
       "      <td>1419.125000</td>\n",
       "      <td>2.293790</td>\n",
       "      <td>POINT (-116.69149 43.16892)</td>\n",
       "    </tr>\n",
       "    <tr>\n",
       "      <th>3</th>\n",
       "      <td>1416.857</td>\n",
       "      <td>1416.822</td>\n",
       "      <td>1416.722656</td>\n",
       "      <td>1.463617</td>\n",
       "      <td>POINT (-116.69151 43.16910)</td>\n",
       "    </tr>\n",
       "    <tr>\n",
       "      <th>4</th>\n",
       "      <td>1412.117</td>\n",
       "      <td>1412.144</td>\n",
       "      <td>1412.230469</td>\n",
       "      <td>1.582585</td>\n",
       "      <td>POINT (-116.69158 43.16964)</td>\n",
       "    </tr>\n",
       "  </tbody>\n",
       "</table>\n",
       "</div>"
      ],
      "text/plain": [
       "   elevation_report_nw_mean  elevation_report_mean  elevation_report_fitted  \\\n",
       "0                     0.000                  0.000                      NaN   \n",
       "1                  1424.714               1424.704              1424.425781   \n",
       "2                  1419.768               1419.699              1419.125000   \n",
       "3                  1416.857               1416.822              1416.722656   \n",
       "4                  1412.117               1412.144              1412.230469   \n",
       "\n",
       "   elevation_report_std                     geometry  \n",
       "0              0.000000  POINT (-116.69469 43.18609)  \n",
       "1              3.577164  POINT (-116.69146 43.16874)  \n",
       "2              2.293790  POINT (-116.69149 43.16892)  \n",
       "3              1.463617  POINT (-116.69151 43.16910)  \n",
       "4              1.582585  POINT (-116.69158 43.16964)  "
      ]
     },
     "execution_count": 6,
     "metadata": {},
     "output_type": "execute_result"
    }
   ],
   "source": [
    "ref_elev.head()"
   ]
  },
  {
   "cell_type": "markdown",
   "id": "8f0f68f6",
   "metadata": {},
   "source": [
    "### Calculate Snow on and Snow off Elevation Differences"
   ]
  },
  {
   "cell_type": "code",
   "execution_count": 10,
   "id": "25e28750",
   "metadata": {},
   "outputs": [],
   "source": [
    "Residuals = icesat2['h_mean']-ref_elev['elevation_report_fitted']"
   ]
  },
  {
   "cell_type": "code",
   "execution_count": 14,
   "id": "057f6f92",
   "metadata": {},
   "outputs": [
    {
     "name": "stderr",
     "output_type": "stream",
     "text": [
      "/Users/karinazikan/opt/anaconda3/envs/sliderule/lib/python3.8/site-packages/geopandas/geodataframe.py:199: UserWarning: Pandas doesn't allow columns to be created via a new attribute name - see https://pandas.pydata.org/pandas-docs/stable/indexing.html#attribute-access\n",
      "  super().__setattr__(attr, val)\n"
     ]
    }
   ],
   "source": [
    "ref_elev.Residuals = Residuals"
   ]
  },
  {
   "cell_type": "code",
   "execution_count": 13,
   "id": "3245d1d7",
   "metadata": {},
   "outputs": [
    {
     "data": {
      "text/plain": [
       "0             NaN\n",
       "1       -0.557570\n",
       "2        0.065789\n",
       "3       -1.410578\n",
       "4       -1.629008\n",
       "           ...   \n",
       "72702    0.354609\n",
       "72703    0.429448\n",
       "72704    0.104651\n",
       "72705    0.225535\n",
       "72706    0.500905\n",
       "Length: 72707, dtype: float64"
      ]
     },
     "execution_count": 13,
     "metadata": {},
     "output_type": "execute_result"
    }
   ],
   "source": []
  },
  {
   "cell_type": "markdown",
   "id": "94ee0d40",
   "metadata": {},
   "source": [
    "## Map of elevations"
   ]
  },
  {
   "cell_type": "code",
   "execution_count": 15,
   "id": "6f0d8721",
   "metadata": {},
   "outputs": [
    {
     "data": {
      "text/plain": [
       "<AxesSubplot:title={'center':'Fitted Reference Elevations'}, xlabel='Longitude', ylabel='Latitude'>"
      ]
     },
     "execution_count": 15,
     "metadata": {},
     "output_type": "execute_result"
    },
    {
     "data": {
      "image/png": "[encoded data removed]",
      "text/plain": [
       "<Figure size 432x288 with 2 Axes>"
      ]
     },
     "metadata": {
      "needs_background": "light"
     },
     "output_type": "display_data"
    }
   ],
   "source": [
    "f, (ax1, ax2) = plt.subplots(1, 2, sharey=True)\n",
    "ax1.set_title(\"ATL06sr points\")\n",
    "ax1.set_xlabel('Longitude')\n",
    "ax1.set_ylabel('Latitude')\n",
    "ax1.set_aspect('equal')\n",
    "icesat2.plot(ax=ax1, column='h_mean', cmap='inferno', s=0.1)\n",
    "region.plot(ax=ax1)\n",
    "\n",
    "ax2.set_title(\"Fitted Reference Elevations\")\n",
    "ax2.set_xlabel('Longitude')\n",
    "ax2.set_ylabel('Latitude')\n",
    "ax2.set_aspect('equal')\n",
    "ref_elev.plot(ax=ax2, column='elevation_report_fitted', cmap='inferno', s=0.1)\n",
    "region.plot(ax=ax2)"
   ]
  },
  {
   "cell_type": "markdown",
   "id": "ad3c7a37",
   "metadata": {},
   "source": [
    "## Map of Elevation differences"
   ]
  },
  {
   "cell_type": "code",
   "execution_count": 9,
   "id": "12b2162b",
   "metadata": {},
   "outputs": [
    {
     "ename": "KeyError",
     "evalue": "'Elevation'",
     "output_type": "error",
     "traceback": [
      "\u001b[0;31m---------------------------------------------------------------------------\u001b[0m",
      "\u001b[0;31mKeyError\u001b[0m                                  Traceback (most recent call last)",
      "File \u001b[0;32m~/opt/anaconda3/envs/sliderule/lib/python3.8/site-packages/pandas/core/indexes/base.py:3621\u001b[0m, in \u001b[0;36mIndex.get_loc\u001b[0;34m(self, key, method, tolerance)\u001b[0m\n\u001b[1;32m   3620\u001b[0m \u001b[38;5;28;01mtry\u001b[39;00m:\n\u001b[0;32m-> 3621\u001b[0m     \u001b[38;5;28;01mreturn\u001b[39;00m \u001b[38;5;28;43mself\u001b[39;49m\u001b[38;5;241;43m.\u001b[39;49m\u001b[43m_engine\u001b[49m\u001b[38;5;241;43m.\u001b[39;49m\u001b[43mget_loc\u001b[49m\u001b[43m(\u001b[49m\u001b[43mcasted_key\u001b[49m\u001b[43m)\u001b[49m\n\u001b[1;32m   3622\u001b[0m \u001b[38;5;28;01mexcept\u001b[39;00m \u001b[38;5;167;01mKeyError\u001b[39;00m \u001b[38;5;28;01mas\u001b[39;00m err:\n",
      "File \u001b[0;32m~/opt/anaconda3/envs/sliderule/lib/python3.8/site-packages/pandas/_libs/index.pyx:136\u001b[0m, in \u001b[0;36mpandas._libs.index.IndexEngine.get_loc\u001b[0;34m()\u001b[0m\n",
      "File \u001b[0;32m~/opt/anaconda3/envs/sliderule/lib/python3.8/site-packages/pandas/_libs/index.pyx:163\u001b[0m, in \u001b[0;36mpandas._libs.index.IndexEngine.get_loc\u001b[0;34m()\u001b[0m\n",
      "File \u001b[0;32mpandas/_libs/hashtable_class_helper.pxi:5198\u001b[0m, in \u001b[0;36mpandas._libs.hashtable.PyObjectHashTable.get_item\u001b[0;34m()\u001b[0m\n",
      "File \u001b[0;32mpandas/_libs/hashtable_class_helper.pxi:5206\u001b[0m, in \u001b[0;36mpandas._libs.hashtable.PyObjectHashTable.get_item\u001b[0;34m()\u001b[0m\n",
      "\u001b[0;31mKeyError\u001b[0m: 'Elevation'",
      "\nThe above exception was the direct cause of the following exception:\n",
      "\u001b[0;31mKeyError\u001b[0m                                  Traceback (most recent call last)",
      "Input \u001b[0;32mIn [9]\u001b[0m, in \u001b[0;36m<cell line: 6>\u001b[0;34m()\u001b[0m\n\u001b[1;32m      4\u001b[0m ax1\u001b[38;5;241m.\u001b[39mset_ylabel(\u001b[38;5;124m'\u001b[39m\u001b[38;5;124mLatitude\u001b[39m\u001b[38;5;124m'\u001b[39m)\n\u001b[1;32m      5\u001b[0m ax1\u001b[38;5;241m.\u001b[39mset_aspect(\u001b[38;5;124m'\u001b[39m\u001b[38;5;124mequal\u001b[39m\u001b[38;5;124m'\u001b[39m)\n\u001b[0;32m----> 6\u001b[0m \u001b[43micesat2\u001b[49m\u001b[38;5;241;43m.\u001b[39;49m\u001b[43mplot\u001b[49m\u001b[43m(\u001b[49m\u001b[43max\u001b[49m\u001b[38;5;241;43m=\u001b[39;49m\u001b[43max1\u001b[49m\u001b[43m,\u001b[49m\u001b[43m \u001b[49m\u001b[43mcolumn\u001b[49m\u001b[38;5;241;43m=\u001b[39;49m\u001b[38;5;124;43m'\u001b[39;49m\u001b[38;5;124;43mElevation\u001b[39;49m\u001b[38;5;124;43m'\u001b[39;49m\u001b[43m,\u001b[49m\u001b[43m \u001b[49m\u001b[43mcmap\u001b[49m\u001b[38;5;241;43m=\u001b[39;49m\u001b[38;5;124;43m'\u001b[39;49m\u001b[38;5;124;43minferno\u001b[39;49m\u001b[38;5;124;43m'\u001b[39;49m\u001b[43m,\u001b[49m\u001b[43m \u001b[49m\u001b[43ms\u001b[49m\u001b[38;5;241;43m=\u001b[39;49m\u001b[38;5;241;43m0.1\u001b[39;49m\u001b[43m)\u001b[49m\n\u001b[1;32m      7\u001b[0m region\u001b[38;5;241m.\u001b[39mplot(ax\u001b[38;5;241m=\u001b[39max1)\n\u001b[1;32m      9\u001b[0m ax2\u001b[38;5;241m.\u001b[39mset_title(\u001b[38;5;124m\"\u001b[39m\u001b[38;5;124mSnow On\u001b[39m\u001b[38;5;124m\"\u001b[39m)\n",
      "File \u001b[0;32m~/opt/anaconda3/envs/sliderule/lib/python3.8/site-packages/geopandas/plotting.py:950\u001b[0m, in \u001b[0;36mGeoplotAccessor.__call__\u001b[0;34m(self, *args, **kwargs)\u001b[0m\n\u001b[1;32m    948\u001b[0m kind \u001b[38;5;241m=\u001b[39m kwargs\u001b[38;5;241m.\u001b[39mpop(\u001b[38;5;124m\"\u001b[39m\u001b[38;5;124mkind\u001b[39m\u001b[38;5;124m\"\u001b[39m, \u001b[38;5;124m\"\u001b[39m\u001b[38;5;124mgeo\u001b[39m\u001b[38;5;124m\"\u001b[39m)\n\u001b[1;32m    949\u001b[0m \u001b[38;5;28;01mif\u001b[39;00m kind \u001b[38;5;241m==\u001b[39m \u001b[38;5;124m\"\u001b[39m\u001b[38;5;124mgeo\u001b[39m\u001b[38;5;124m\"\u001b[39m:\n\u001b[0;32m--> 950\u001b[0m     \u001b[38;5;28;01mreturn\u001b[39;00m \u001b[43mplot_dataframe\u001b[49m\u001b[43m(\u001b[49m\u001b[43mdata\u001b[49m\u001b[43m,\u001b[49m\u001b[43m \u001b[49m\u001b[38;5;241;43m*\u001b[39;49m\u001b[43margs\u001b[49m\u001b[43m,\u001b[49m\u001b[43m \u001b[49m\u001b[38;5;241;43m*\u001b[39;49m\u001b[38;5;241;43m*\u001b[39;49m\u001b[43mkwargs\u001b[49m\u001b[43m)\u001b[49m\n\u001b[1;32m    951\u001b[0m \u001b[38;5;28;01mif\u001b[39;00m kind \u001b[38;5;129;01min\u001b[39;00m \u001b[38;5;28mself\u001b[39m\u001b[38;5;241m.\u001b[39m_pandas_kinds:\n\u001b[1;32m    952\u001b[0m     \u001b[38;5;66;03m# Access pandas plots\u001b[39;00m\n\u001b[1;32m    953\u001b[0m     \u001b[38;5;28;01mreturn\u001b[39;00m PlotAccessor(data)(kind\u001b[38;5;241m=\u001b[39mkind, \u001b[38;5;241m*\u001b[39m\u001b[38;5;241m*\u001b[39mkwargs)\n",
      "File \u001b[0;32m~/opt/anaconda3/envs/sliderule/lib/python3.8/site-packages/geopandas/plotting.py:716\u001b[0m, in \u001b[0;36mplot_dataframe\u001b[0;34m(df, column, cmap, color, ax, cax, categorical, legend, scheme, k, vmin, vmax, markersize, figsize, legend_kwds, categories, classification_kwds, missing_kwds, aspect, **style_kwds)\u001b[0m\n\u001b[1;32m    714\u001b[0m             values \u001b[38;5;241m=\u001b[39m values\u001b[38;5;241m.\u001b[39mreindex(df\u001b[38;5;241m.\u001b[39mindex)\n\u001b[1;32m    715\u001b[0m \u001b[38;5;28;01melse\u001b[39;00m:\n\u001b[0;32m--> 716\u001b[0m     values \u001b[38;5;241m=\u001b[39m \u001b[43mdf\u001b[49m\u001b[43m[\u001b[49m\u001b[43mcolumn\u001b[49m\u001b[43m]\u001b[49m\n\u001b[1;32m    718\u001b[0m \u001b[38;5;28;01mif\u001b[39;00m pd\u001b[38;5;241m.\u001b[39mapi\u001b[38;5;241m.\u001b[39mtypes\u001b[38;5;241m.\u001b[39mis_categorical_dtype(values\u001b[38;5;241m.\u001b[39mdtype):\n\u001b[1;32m    719\u001b[0m     \u001b[38;5;28;01mif\u001b[39;00m categories \u001b[38;5;129;01mis\u001b[39;00m \u001b[38;5;129;01mnot\u001b[39;00m \u001b[38;5;28;01mNone\u001b[39;00m:\n",
      "File \u001b[0;32m~/opt/anaconda3/envs/sliderule/lib/python3.8/site-packages/geopandas/geodataframe.py:1327\u001b[0m, in \u001b[0;36mGeoDataFrame.__getitem__\u001b[0;34m(self, key)\u001b[0m\n\u001b[1;32m   1321\u001b[0m \u001b[38;5;28;01mdef\u001b[39;00m \u001b[38;5;21m__getitem__\u001b[39m(\u001b[38;5;28mself\u001b[39m, key):\n\u001b[1;32m   1322\u001b[0m     \u001b[38;5;124;03m\"\"\"\u001b[39;00m\n\u001b[1;32m   1323\u001b[0m \u001b[38;5;124;03m    If the result is a column containing only 'geometry', return a\u001b[39;00m\n\u001b[1;32m   1324\u001b[0m \u001b[38;5;124;03m    GeoSeries. If it's a DataFrame with a 'geometry' column, return a\u001b[39;00m\n\u001b[1;32m   1325\u001b[0m \u001b[38;5;124;03m    GeoDataFrame.\u001b[39;00m\n\u001b[1;32m   1326\u001b[0m \u001b[38;5;124;03m    \"\"\"\u001b[39;00m\n\u001b[0;32m-> 1327\u001b[0m     result \u001b[38;5;241m=\u001b[39m \u001b[38;5;28;43msuper\u001b[39;49m\u001b[43m(\u001b[49m\u001b[43m)\u001b[49m\u001b[38;5;241;43m.\u001b[39;49m\u001b[38;5;21;43m__getitem__\u001b[39;49m\u001b[43m(\u001b[49m\u001b[43mkey\u001b[49m\u001b[43m)\u001b[49m\n\u001b[1;32m   1328\u001b[0m     geo_col \u001b[38;5;241m=\u001b[39m \u001b[38;5;28mself\u001b[39m\u001b[38;5;241m.\u001b[39m_geometry_column_name\n\u001b[1;32m   1329\u001b[0m     \u001b[38;5;28;01mif\u001b[39;00m \u001b[38;5;28misinstance\u001b[39m(result, Series) \u001b[38;5;129;01mand\u001b[39;00m \u001b[38;5;28misinstance\u001b[39m(result\u001b[38;5;241m.\u001b[39mdtype, GeometryDtype):\n",
      "File \u001b[0;32m~/opt/anaconda3/envs/sliderule/lib/python3.8/site-packages/pandas/core/frame.py:3505\u001b[0m, in \u001b[0;36mDataFrame.__getitem__\u001b[0;34m(self, key)\u001b[0m\n\u001b[1;32m   3503\u001b[0m \u001b[38;5;28;01mif\u001b[39;00m \u001b[38;5;28mself\u001b[39m\u001b[38;5;241m.\u001b[39mcolumns\u001b[38;5;241m.\u001b[39mnlevels \u001b[38;5;241m>\u001b[39m \u001b[38;5;241m1\u001b[39m:\n\u001b[1;32m   3504\u001b[0m     \u001b[38;5;28;01mreturn\u001b[39;00m \u001b[38;5;28mself\u001b[39m\u001b[38;5;241m.\u001b[39m_getitem_multilevel(key)\n\u001b[0;32m-> 3505\u001b[0m indexer \u001b[38;5;241m=\u001b[39m \u001b[38;5;28;43mself\u001b[39;49m\u001b[38;5;241;43m.\u001b[39;49m\u001b[43mcolumns\u001b[49m\u001b[38;5;241;43m.\u001b[39;49m\u001b[43mget_loc\u001b[49m\u001b[43m(\u001b[49m\u001b[43mkey\u001b[49m\u001b[43m)\u001b[49m\n\u001b[1;32m   3506\u001b[0m \u001b[38;5;28;01mif\u001b[39;00m is_integer(indexer):\n\u001b[1;32m   3507\u001b[0m     indexer \u001b[38;5;241m=\u001b[39m [indexer]\n",
      "File \u001b[0;32m~/opt/anaconda3/envs/sliderule/lib/python3.8/site-packages/pandas/core/indexes/base.py:3623\u001b[0m, in \u001b[0;36mIndex.get_loc\u001b[0;34m(self, key, method, tolerance)\u001b[0m\n\u001b[1;32m   3621\u001b[0m     \u001b[38;5;28;01mreturn\u001b[39;00m \u001b[38;5;28mself\u001b[39m\u001b[38;5;241m.\u001b[39m_engine\u001b[38;5;241m.\u001b[39mget_loc(casted_key)\n\u001b[1;32m   3622\u001b[0m \u001b[38;5;28;01mexcept\u001b[39;00m \u001b[38;5;167;01mKeyError\u001b[39;00m \u001b[38;5;28;01mas\u001b[39;00m err:\n\u001b[0;32m-> 3623\u001b[0m     \u001b[38;5;28;01mraise\u001b[39;00m \u001b[38;5;167;01mKeyError\u001b[39;00m(key) \u001b[38;5;28;01mfrom\u001b[39;00m \u001b[38;5;21;01merr\u001b[39;00m\n\u001b[1;32m   3624\u001b[0m \u001b[38;5;28;01mexcept\u001b[39;00m \u001b[38;5;167;01mTypeError\u001b[39;00m:\n\u001b[1;32m   3625\u001b[0m     \u001b[38;5;66;03m# If we have a listlike key, _check_indexing_error will raise\u001b[39;00m\n\u001b[1;32m   3626\u001b[0m     \u001b[38;5;66;03m#  InvalidIndexError. Otherwise we fall through and re-raise\u001b[39;00m\n\u001b[1;32m   3627\u001b[0m     \u001b[38;5;66;03m#  the TypeError.\u001b[39;00m\n\u001b[1;32m   3628\u001b[0m     \u001b[38;5;28mself\u001b[39m\u001b[38;5;241m.\u001b[39m_check_indexing_error(key)\n",
      "\u001b[0;31mKeyError\u001b[0m: 'Elevation'"
     ]
    },
    {
     "data": {
      "image/png": "[encoded data removed]",
      "text/plain": [
       "<Figure size 432x288 with 2 Axes>"
      ]
     },
     "metadata": {
      "needs_background": "light"
     },
     "output_type": "display_data"
    }
   ],
   "source": [
    "f, (ax1, ax2) = plt.subplots(1, 2, sharey=True)\n",
    "ax1.set_title(\"Snow Off\")\n",
    "ax1.set_xlabel('Longitude')\n",
    "ax1.set_ylabel('Latitude')\n",
    "ax1.set_aspect('equal')\n",
    "icesat2.plot(ax=ax1, column='Elevation', cmap='inferno', s=0.1)\n",
    "region.plot(ax=ax1)\n",
    "\n",
    "ax2.set_title(\"Snow On\")\n",
    "ax2.set_xlabel('Longitude')\n",
    "ax2.set_ylabel('Latitude')\n",
    "ax2.set_aspect('equal')\n",
    "ref_elev.plot(ax=ax2, column='elevation_report_fitted', cmap='inferno', s=0.1)\n",
    "region.plot(ax=ax2)"
   ]
  },
  {
   "cell_type": "code",
   "execution_count": null,
   "id": "10c25fbf",
   "metadata": {},
   "outputs": [],
   "source": []
  }
 ],
 "metadata": {
  "kernelspec": {
   "display_name": "Python 3 (ipykernel)",
   "language": "python",
   "name": "python3"
  },
  "language_info": {
   "codemirror_mode": {
    "name": "ipython",
    "version": 3
   },
   "file_extension": ".py",
   "mimetype": "text/x-python",
   "name": "python",
   "nbconvert_exporter": "python",
   "pygments_lexer": "ipython3",
   "version": "3.8.13"
  }
 },
 "nbformat": 4,
 "nbformat_minor": 5
}
