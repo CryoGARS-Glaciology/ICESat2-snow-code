{
 "cells": [
  {
   "cell_type": "markdown",
   "id": "d661c3cf",
   "metadata": {},
   "source": [
    "# ICESat-2 and Reference Elevation Comparison\n",
    "\n",
    "This notebook compares ICESat-2 elevations to snow-off reference elevations calculted from DTM_reference_elevations_calculation_sliderulecsv.m or DTM_reference_elevations_calculation.m\n",
    "\n",
    "Last updated by Karina Zikan July 2022"
   ]
  },
  {
   "cell_type": "code",
   "execution_count": 1,
   "id": "e4be01f1",
   "metadata": {},
   "outputs": [],
   "source": [
    "import pandas as pd\n",
    "import geopandas as gpd\n",
    "import matplotlib.pyplot as plt\n",
    "import numpy as np\n",
    "from shapely.geometry import Polygon, Point\n",
    "from mpl_toolkits.axes_grid1 import make_axes_locatable"
   ]
  },
  {
   "cell_type": "markdown",
   "id": "07c2faf5",
   "metadata": {},
   "source": [
    "## Define Inputs"
   ]
  },
  {
   "cell_type": "code",
   "execution_count": 2,
   "id": "55204184",
   "metadata": {},
   "outputs": [],
   "source": [
    "# File Paths\n",
    "icesat2 = 'RCEW/RCEW-ICESat2-ATL08-params.csv'\n",
    "ref_elevations = 'RCEW/RCEW-ICESat2-ATL08-ref-elevations.csv'\n",
    "# Site\n",
    "abbrev = 'RCEW'\n",
    "site = 'RCEW/boundRCEW/boundRCEW_WGS84.geojson'\n",
    "# ICESat-2 acronym\n",
    "acronym = 'ATL08'"
   ]
  },
  {
   "cell_type": "markdown",
   "id": "7fbc8a16",
   "metadata": {},
   "source": [
    "## Load data"
   ]
  },
  {
   "cell_type": "code",
   "execution_count": 3,
   "id": "7701a96c",
   "metadata": {},
   "outputs": [],
   "source": [
    "icesat2 = gpd.read_file(icesat2)\n",
    "ref_elev = gpd.read_file(ref_elevations)\n",
    "region = gpd.read_file(site)"
   ]
  },
  {
   "cell_type": "code",
   "execution_count": 4,
   "id": "72e395c0",
   "metadata": {},
   "outputs": [],
   "source": [
    "icesat2.geometry=gpd.points_from_xy(icesat2.Longitude, icesat2.Latitude)\n",
    "ref_elev.geometry=gpd.points_from_xy(icesat2.Longitude, icesat2.Latitude)"
   ]
  },
  {
   "cell_type": "markdown",
   "id": "8f0f68f6",
   "metadata": {},
   "source": [
    "### Calculate Snow on and Snow off Elevation Differences"
   ]
  },
  {
   "cell_type": "code",
   "execution_count": 33,
   "id": "08348d34",
   "metadata": {},
   "outputs": [
    {
     "name": "stdout",
     "output_type": "stream",
     "text": [
      "Empty GeoDataFrame\n",
      "Columns: [Latitude, Longitude, Elevation, Elevation_bestfit, Canopy, std, Easting, Northing, Brightness_Flag, Snow_Flag, ReferenceElevation, VerticalErrors, season, date, Elevation_Coregistered, differences, slope, aspect, geometry]\n",
      "Index: []\n"
     ]
    }
   ],
   "source": [
    "\n",
    "nan_values=icesat2[icesat2['Elevation'].isna()] \n",
    "# icesat2.snow_off_diff = [icesat2.Elevation_bestfit-]\n",
    "nan_values"
   ]
  },
  {
   "cell_type": "markdown",
   "id": "c2095872",
   "metadata": {},
   "source": [
    "### Check data arrays"
   ]
  },
  {
   "cell_type": "code",
   "execution_count": 26,
   "id": "8cde35c5",
   "metadata": {},
   "outputs": [
    {
     "data": {
      "text/html": [
       "<div>\n",
       "<style scoped>\n",
       "    .dataframe tbody tr th:only-of-type {\n",
       "        vertical-align: middle;\n",
       "    }\n",
       "\n",
       "    .dataframe tbody tr th {\n",
       "        vertical-align: top;\n",
       "    }\n",
       "\n",
       "    .dataframe thead th {\n",
       "        text-align: right;\n",
       "    }\n",
       "</style>\n",
       "<table border=\"1\" class=\"dataframe\">\n",
       "  <thead>\n",
       "    <tr style=\"text-align: right;\">\n",
       "      <th></th>\n",
       "      <th>Latitude</th>\n",
       "      <th>Longitude</th>\n",
       "      <th>Elevation</th>\n",
       "      <th>Elevation_bestfit</th>\n",
       "      <th>Canopy</th>\n",
       "      <th>std</th>\n",
       "      <th>Easting</th>\n",
       "      <th>Northing</th>\n",
       "      <th>Brightness_Flag</th>\n",
       "      <th>Snow_Flag</th>\n",
       "      <th>ReferenceElevation</th>\n",
       "      <th>VerticalErrors</th>\n",
       "      <th>season</th>\n",
       "      <th>date</th>\n",
       "      <th>Elevation_Coregistered</th>\n",
       "      <th>differences</th>\n",
       "      <th>slope</th>\n",
       "      <th>aspect</th>\n",
       "      <th>geometry</th>\n",
       "    </tr>\n",
       "  </thead>\n",
       "  <tbody>\n",
       "    <tr>\n",
       "      <th>0</th>\n",
       "      <td>43.20378</td>\n",
       "      <td>-116.697</td>\n",
       "      <td>NaN</td>\n",
       "      <td>1466.125</td>\n",
       "      <td>46.17834</td>\n",
       "      <td>3.402823e+38</td>\n",
       "      <td>524615.29975</td>\n",
       "      <td>4783490.00025</td>\n",
       "      <td>0</td>\n",
       "      <td>1</td>\n",
       "      <td>1486.65747070312</td>\n",
       "      <td>NaN</td>\n",
       "      <td>4</td>\n",
       "      <td>2018.90410958904</td>\n",
       "      <td>NaN</td>\n",
       "      <td>NaN</td>\n",
       "      <td>9.43075516971588</td>\n",
       "      <td>263.304720898056</td>\n",
       "      <td>POINT (-116.69700 43.20378)</td>\n",
       "    </tr>\n",
       "    <tr>\n",
       "      <th>1</th>\n",
       "      <td>43.20647</td>\n",
       "      <td>-116.6974</td>\n",
       "      <td>NaN</td>\n",
       "      <td>1434.723</td>\n",
       "      <td>48.5835</td>\n",
       "      <td>3.402823e+38</td>\n",
       "      <td>524585.39975</td>\n",
       "      <td>4783788.00025</td>\n",
       "      <td>0</td>\n",
       "      <td>1</td>\n",
       "      <td>1457.46899414062</td>\n",
       "      <td>NaN</td>\n",
       "      <td>4</td>\n",
       "      <td>2018.90410958904</td>\n",
       "      <td>NaN</td>\n",
       "      <td>NaN</td>\n",
       "      <td>16.9113724986722</td>\n",
       "      <td>299.636744559044</td>\n",
       "      <td>POINT (-116.69740 43.20647)</td>\n",
       "    </tr>\n",
       "    <tr>\n",
       "      <th>2</th>\n",
       "      <td>43.20737</td>\n",
       "      <td>-116.6975</td>\n",
       "      <td>NaN</td>\n",
       "      <td>1438.812</td>\n",
       "      <td>47.44385</td>\n",
       "      <td>3.402823e+38</td>\n",
       "      <td>524576.19975</td>\n",
       "      <td>4783888.00025</td>\n",
       "      <td>0</td>\n",
       "      <td>1</td>\n",
       "      <td>1465.75</td>\n",
       "      <td>NaN</td>\n",
       "      <td>4</td>\n",
       "      <td>2018.90410958904</td>\n",
       "      <td>NaN</td>\n",
       "      <td>NaN</td>\n",
       "      <td>13.8558454525779</td>\n",
       "      <td>292.978692465565</td>\n",
       "      <td>POINT (-116.69750 43.20737)</td>\n",
       "    </tr>\n",
       "    <tr>\n",
       "      <th>3</th>\n",
       "      <td>43.20827</td>\n",
       "      <td>-116.6976</td>\n",
       "      <td>1449.668</td>\n",
       "      <td>1450.877</td>\n",
       "      <td>45.97876</td>\n",
       "      <td>3.687252</td>\n",
       "      <td>524565.79975</td>\n",
       "      <td>4783988.00025</td>\n",
       "      <td>0</td>\n",
       "      <td>1</td>\n",
       "      <td>1479.84936523438</td>\n",
       "      <td>-30.1813652343751</td>\n",
       "      <td>4</td>\n",
       "      <td>2018.90410958904</td>\n",
       "      <td>1450.44450878906</td>\n",
       "      <td>-29.4048564453201</td>\n",
       "      <td>12.4688641733889</td>\n",
       "      <td>230.444434014291</td>\n",
       "      <td>POINT (-116.69760 43.20827)</td>\n",
       "    </tr>\n",
       "    <tr>\n",
       "      <th>4</th>\n",
       "      <td>43.20917</td>\n",
       "      <td>-116.6977</td>\n",
       "      <td>NaN</td>\n",
       "      <td>1475.977</td>\n",
       "      <td>45.58411</td>\n",
       "      <td>3.402823e+38</td>\n",
       "      <td>524555.39975</td>\n",
       "      <td>4784087.00025</td>\n",
       "      <td>0</td>\n",
       "      <td>1</td>\n",
       "      <td>1494.75952148438</td>\n",
       "      <td>NaN</td>\n",
       "      <td>4</td>\n",
       "      <td>2018.90410958904</td>\n",
       "      <td>NaN</td>\n",
       "      <td>NaN</td>\n",
       "      <td>11.5393603246282</td>\n",
       "      <td>247.543292841191</td>\n",
       "      <td>POINT (-116.69770 43.20917)</td>\n",
       "    </tr>\n",
       "  </tbody>\n",
       "</table>\n",
       "</div>"
      ],
      "text/plain": [
       "   Latitude  Longitude Elevation Elevation_bestfit    Canopy           std  \\\n",
       "0  43.20378   -116.697       NaN          1466.125  46.17834  3.402823e+38   \n",
       "1  43.20647  -116.6974       NaN          1434.723   48.5835  3.402823e+38   \n",
       "2  43.20737  -116.6975       NaN          1438.812  47.44385  3.402823e+38   \n",
       "3  43.20827  -116.6976  1449.668          1450.877  45.97876      3.687252   \n",
       "4  43.20917  -116.6977       NaN          1475.977  45.58411  3.402823e+38   \n",
       "\n",
       "        Easting       Northing Brightness_Flag Snow_Flag ReferenceElevation  \\\n",
       "0  524615.29975  4783490.00025               0         1   1486.65747070312   \n",
       "1  524585.39975  4783788.00025               0         1   1457.46899414062   \n",
       "2  524576.19975  4783888.00025               0         1            1465.75   \n",
       "3  524565.79975  4783988.00025               0         1   1479.84936523438   \n",
       "4  524555.39975  4784087.00025               0         1   1494.75952148438   \n",
       "\n",
       "      VerticalErrors season              date Elevation_Coregistered  \\\n",
       "0                NaN      4  2018.90410958904                    NaN   \n",
       "1                NaN      4  2018.90410958904                    NaN   \n",
       "2                NaN      4  2018.90410958904                    NaN   \n",
       "3  -30.1813652343751      4  2018.90410958904       1450.44450878906   \n",
       "4                NaN      4  2018.90410958904                    NaN   \n",
       "\n",
       "         differences             slope            aspect  \\\n",
       "0                NaN  9.43075516971588  263.304720898056   \n",
       "1                NaN  16.9113724986722  299.636744559044   \n",
       "2                NaN  13.8558454525779  292.978692465565   \n",
       "3  -29.4048564453201  12.4688641733889  230.444434014291   \n",
       "4                NaN  11.5393603246282  247.543292841191   \n",
       "\n",
       "                      geometry  \n",
       "0  POINT (-116.69700 43.20378)  \n",
       "1  POINT (-116.69740 43.20647)  \n",
       "2  POINT (-116.69750 43.20737)  \n",
       "3  POINT (-116.69760 43.20827)  \n",
       "4  POINT (-116.69770 43.20917)  "
      ]
     },
     "execution_count": 26,
     "metadata": {},
     "output_type": "execute_result"
    }
   ],
   "source": [
    "icesat2.head()"
   ]
  },
  {
   "cell_type": "code",
   "execution_count": 12,
   "id": "954921bc",
   "metadata": {},
   "outputs": [
    {
     "data": {
      "text/html": [
       "<div>\n",
       "<style scoped>\n",
       "    .dataframe tbody tr th:only-of-type {\n",
       "        vertical-align: middle;\n",
       "    }\n",
       "\n",
       "    .dataframe tbody tr th {\n",
       "        vertical-align: top;\n",
       "    }\n",
       "\n",
       "    .dataframe thead th {\n",
       "        text-align: right;\n",
       "    }\n",
       "</style>\n",
       "<table border=\"1\" class=\"dataframe\">\n",
       "  <thead>\n",
       "    <tr style=\"text-align: right;\">\n",
       "      <th></th>\n",
       "      <th>elevation_report_nw_mean</th>\n",
       "      <th>elevation_report_mean</th>\n",
       "      <th>elevation_report_fitted</th>\n",
       "      <th>elevation_report_std</th>\n",
       "      <th>geometry</th>\n",
       "    </tr>\n",
       "  </thead>\n",
       "  <tbody>\n",
       "    <tr>\n",
       "      <th>0</th>\n",
       "      <td>1486.666</td>\n",
       "      <td>1486.661</td>\n",
       "      <td>1486.1328125</td>\n",
       "      <td>1.173375</td>\n",
       "      <td>POINT (-116.69700 43.20378)</td>\n",
       "    </tr>\n",
       "    <tr>\n",
       "      <th>1</th>\n",
       "      <td>1457.479</td>\n",
       "      <td>1457.483</td>\n",
       "      <td>1458.0703125</td>\n",
       "      <td>4.027685</td>\n",
       "      <td>POINT (-116.69740 43.20647)</td>\n",
       "    </tr>\n",
       "    <tr>\n",
       "      <th>2</th>\n",
       "      <td>1465.722</td>\n",
       "      <td>1465.722</td>\n",
       "      <td>1465.0625</td>\n",
       "      <td>1.733328</td>\n",
       "      <td>POINT (-116.69750 43.20737)</td>\n",
       "    </tr>\n",
       "    <tr>\n",
       "      <th>3</th>\n",
       "      <td>1479.886</td>\n",
       "      <td>1479.892</td>\n",
       "      <td>1479.515625</td>\n",
       "      <td>6.282501</td>\n",
       "      <td>POINT (-116.69760 43.20827)</td>\n",
       "    </tr>\n",
       "    <tr>\n",
       "      <th>4</th>\n",
       "      <td>1494.806</td>\n",
       "      <td>1494.835</td>\n",
       "      <td>1498.15625</td>\n",
       "      <td>2.974982</td>\n",
       "      <td>POINT (-116.69770 43.20917)</td>\n",
       "    </tr>\n",
       "  </tbody>\n",
       "</table>\n",
       "</div>"
      ],
      "text/plain": [
       "  elevation_report_nw_mean elevation_report_mean elevation_report_fitted  \\\n",
       "0                 1486.666              1486.661            1486.1328125   \n",
       "1                 1457.479              1457.483            1458.0703125   \n",
       "2                 1465.722              1465.722               1465.0625   \n",
       "3                 1479.886              1479.892             1479.515625   \n",
       "4                 1494.806              1494.835              1498.15625   \n",
       "\n",
       "  elevation_report_std                     geometry  \n",
       "0             1.173375  POINT (-116.69700 43.20378)  \n",
       "1             4.027685  POINT (-116.69740 43.20647)  \n",
       "2             1.733328  POINT (-116.69750 43.20737)  \n",
       "3             6.282501  POINT (-116.69760 43.20827)  \n",
       "4             2.974982  POINT (-116.69770 43.20917)  "
      ]
     },
     "execution_count": 12,
     "metadata": {},
     "output_type": "execute_result"
    }
   ],
   "source": [
    "ref_elev.head()"
   ]
  },
  {
   "cell_type": "markdown",
   "id": "94ee0d40",
   "metadata": {},
   "source": [
    "## Map of elevations"
   ]
  },
  {
   "cell_type": "code",
   "execution_count": 13,
   "id": "6f0d8721",
   "metadata": {},
   "outputs": [
    {
     "data": {
      "text/plain": [
       "<AxesSubplot:title={'center':'Fitted Reference Elevations'}, xlabel='Longitude', ylabel='Latitude'>"
      ]
     },
     "execution_count": 13,
     "metadata": {},
     "output_type": "execute_result"
    },
    {
     "data": {
      "image/png": "[encoded data removed]",
      "text/plain": [
       "<Figure size 432x288 with 2 Axes>"
      ]
     },
     "metadata": {
      "needs_background": "light"
     },
     "output_type": "display_data"
    }
   ],
   "source": [
    "f, (ax1, ax2) = plt.subplots(1, 2, sharey=True)\n",
    "ax1.set_title(\"ATL08 points\")\n",
    "ax1.set_xlabel('Longitude')\n",
    "ax1.set_ylabel('Latitude')\n",
    "ax1.set_aspect('equal')\n",
    "icesat2.plot(ax=ax1, column='Elevation', cmap='inferno', s=0.1)\n",
    "region.plot(ax=ax1)\n",
    "\n",
    "ax2.set_title(\"Fitted Reference Elevations\")\n",
    "ax2.set_xlabel('Longitude')\n",
    "ax2.set_ylabel('Latitude')\n",
    "ax2.set_aspect('equal')\n",
    "ref_elev.plot(ax=ax2, column='elevation_report_fitted', cmap='inferno', s=0.1)\n",
    "region.plot(ax=ax2)"
   ]
  },
  {
   "cell_type": "markdown",
   "id": "ad3c7a37",
   "metadata": {},
   "source": [
    "## Map of Elevation differences"
   ]
  },
  {
   "cell_type": "code",
   "execution_count": null,
   "id": "12b2162b",
   "metadata": {},
   "outputs": [],
   "source": [
    "f, (ax1, ax2) = plt.subplots(1, 2, sharey=True)\n",
    "ax1.set_title(\"Snow Off\")\n",
    "ax1.set_xlabel('Longitude')\n",
    "ax1.set_ylabel('Latitude')\n",
    "ax1.set_aspect('equal')\n",
    "icesat2.plot(ax=ax1, column='Elevation', cmap='inferno', s=0.1)\n",
    "region.plot(ax=ax1)\n",
    "\n",
    "ax2.set_title(\"Snow Off\")\n",
    "ax2.set_xlabel('Longitude')\n",
    "ax2.set_ylabel('Latitude')\n",
    "ax2.set_aspect('equal')\n",
    "ref_elev.plot(ax=ax2, column='elevation_report_fitted', cmap='inferno', s=0.1)\n",
    "region.plot(ax=ax2)"
   ]
  }
 ],
 "metadata": {
  "kernelspec": {
   "display_name": "Python 3 (ipykernel)",
   "language": "python",
   "name": "python3"
  },
  "language_info": {
   "codemirror_mode": {
    "name": "ipython",
    "version": 3
   },
   "file_extension": ".py",
   "mimetype": "text/x-python",
   "name": "python",
   "nbconvert_exporter": "python",
   "pygments_lexer": "ipython3",
   "version": "3.8.13"
  }
 },
 "nbformat": 4,
 "nbformat_minor": 5
}
