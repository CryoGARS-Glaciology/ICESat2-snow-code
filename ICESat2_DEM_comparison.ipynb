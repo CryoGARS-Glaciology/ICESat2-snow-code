{
 "cells": [
  {
   "cell_type": "markdown",
   "id": "d661c3cf",
   "metadata": {},
   "source": [
    "## ICESat-2 and Reference Elevation Comparison\n",
    "\n",
    "This notebook compares ICESat-2 elevations to reference elevations calculted from DTM_reference_elevations_calculation_sliderulecsv.m or DTM_reference_elevations_calculation.m\n",
    "\n"
   ]
  }
 ],
 "metadata": {
  "kernelspec": {
   "display_name": "Python 3 (ipykernel)",
   "language": "python",
   "name": "python3"
  },
  "language_info": {
   "codemirror_mode": {
    "name": "ipython",
    "version": 3
   },
   "file_extension": ".py",
   "mimetype": "text/x-python",
   "name": "python",
   "nbconvert_exporter": "python",
   "pygments_lexer": "ipython3",
   "version": "3.8.13"
  }
 },
 "nbformat": 4,
 "nbformat_minor": 5
}
