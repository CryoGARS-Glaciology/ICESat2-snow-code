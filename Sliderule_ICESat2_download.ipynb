{
 "cells": [
  {
   "cell_type": "markdown",
   "id": "adec21b9",
   "metadata": {},
   "source": [
    "## ICESat-2 SlideRule Download\n",
    "\n",
    "This code is adapted from Sliderule Python example code. It is designed to calculate ATL06 elevations from ALT03 points and save those elevations as a CSV. \n",
    "\n",
    "Activate sliderule enviroment to run"
   ]
  },
  {
   "cell_type": "code",
   "execution_count": 1,
   "id": "2c4a16f4",
   "metadata": {},
   "outputs": [],
   "source": [
    "import sys\n",
    "import logging\n",
    "import concurrent.futures\n",
    "import time\n",
    "from datetime import datetime\n",
    "import pandas as pd\n",
    "import geopandas as gpd\n",
    "import matplotlib.pyplot as plt\n",
    "from pyproj import Transformer, CRS\n",
    "from shapely.geometry import Polygon, Point\n",
    "from sliderule import icesat2\n",
    "from sliderule import sliderule"
   ]
  },
  {
   "cell_type": "markdown",
   "id": "9af7ad61",
   "metadata": {},
   "source": [
    "## SlideRule Configuration"
   ]
  },
  {
   "cell_type": "code",
   "execution_count": 2,
   "id": "f01cf9d3",
   "metadata": {},
   "outputs": [],
   "source": [
    "# Configure ICESat-2 API\n",
    "icesat2.init(\"icesat2sliderule.org\", False)"
   ]
  },
  {
   "cell_type": "markdown",
   "id": "4da5abf9",
   "metadata": {},
   "source": [
    "## Specify Region of Interest"
   ]
  },
  {
   "cell_type": "markdown",
   "id": "0210c6b8",
   "metadata": {},
   "source": [
    "#### 1. Make geojson from shapefile - if you have a geojson of the region skip to 2."
   ]
  },
  {
   "cell_type": "code",
   "execution_count": 4,
   "id": "7be0c803",
   "metadata": {},
   "outputs": [
    {
     "name": "stderr",
     "output_type": "stream",
     "text": [
      "/Users/karinazikan/opt/anaconda3/envs/sliderule/lib/python3.8/site-packages/geopandas/io/file.py:362: FutureWarning: pandas.Int64Index is deprecated and will be removed from pandas in a future version. Use pandas.Index with the appropriate dtype instead.\n",
      "  pd.Int64Index,\n"
     ]
    },
    {
     "data": {
      "text/plain": [
       "True"
      ]
     },
     "execution_count": 4,
     "metadata": {},
     "output_type": "execute_result"
    }
   ],
   "source": [
    "# Specify region of interest shapefile\n",
    "shp = \"DryCreek/boundDCEW/boundDCEW.shp\"\n",
    "shapefile = gpd.read_file(shp)\n",
    "shapefile.to_file('DryCreek/boundDCEW/boundDCEW.geojson', driver='GeoJSON')\n",
    "shapefile.crs is None"
   ]
  },
  {
   "cell_type": "code",
   "execution_count": 5,
   "id": "e7f4889c",
   "metadata": {},
   "outputs": [],
   "source": [
    "## if shapefile.crs is None is false check the crs\n",
    "shapefile.crs"
   ]
  },
  {
   "cell_type": "code",
   "execution_count": null,
   "id": "ee133c67",
   "metadata": {},
   "outputs": [],
   "source": [
    "## if shapefile.crs is None is true run this section\n",
    "crs = 'epsg:8826' # set the starting datum using the epsg code\n",
    "icesat_crs = 4979 # epsg code for WGS84\n",
    "shapefile = shapefile.set_crs(crs)\n",
    "shapefile = shapefile.to_crs(icesat_crs) # transform to WGS84 \n",
    "shapefile.to_file('DryCreek/boundDCEW/boundDCEW_WGS84.geojson', driver='GeoJSON')"
   ]
  },
  {
   "cell_type": "code",
   "execution_count": null,
   "id": "a435444d",
   "metadata": {},
   "outputs": [],
   "source": [
    "## if shapefile.crs is not WGS84 run this section\n",
    "icesat_crs = 4979 # epsg code for WGS84\n",
    "shapefile = shapefile.to_crs(icesat_crs) # transform to WGS84 \n",
    "shapefile.to_file('DryCreek/boundDCEW/boundDCEW_WGS84.geojson', driver='GeoJSON')"
   ]
  },
  {
   "cell_type": "markdown",
   "id": "b7d49605",
   "metadata": {},
   "source": [
    "#### 2. Read in geojson for Region of Interest"
   ]
  },
  {
   "cell_type": "code",
   "execution_count": 6,
   "id": "d1897d7a",
   "metadata": {},
   "outputs": [
    {
     "data": {
      "text/plain": [
       "[{'lon': -116.1746943502404, 'lat': 43.686837543426144},\n",
       " {'lon': -116.09786647909404, 'lat': 43.69734469940783},\n",
       " {'lon': -116.0966752516753, 'lat': 43.697593568793344},\n",
       " {'lon': -116.0925562211548, 'lat': 43.69926713165001},\n",
       " {'lon': -116.09203255625805, 'lat': 43.69949714186523},\n",
       " {'lon': -116.089853022847, 'lat': 43.70234739074647},\n",
       " {'lon': -116.08371331771147, 'lat': 43.73349455098816},\n",
       " {'lon': -116.0837304787364, 'lat': 43.7339892883854},\n",
       " {'lon': -116.08378974401451, 'lat': 43.73435870361225},\n",
       " {'lon': -116.08387566039356, 'lat': 43.734894232651506},\n",
       " {'lon': -116.0866868422842, 'lat': 43.74375382066855},\n",
       " {'lon': -116.08739791562141, 'lat': 43.744565913338434},\n",
       " {'lon': -116.09594530889662, 'lat': 43.75142261831437},\n",
       " {'lon': -116.09827216344925, 'lat': 43.75286505183383},\n",
       " {'lon': -116.09895755594343, 'lat': 43.75293496951114},\n",
       " {'lon': -116.1370102494612, 'lat': 43.738766749155694},\n",
       " {'lon': -116.1559211411394, 'lat': 43.72719614818465},\n",
       " {'lon': -116.16144966043333, 'lat': 43.722079574362226},\n",
       " {'lon': -116.17871636315137, 'lat': 43.688228640187276},\n",
       " {'lon': -116.17873861707695, 'lat': 43.68799752739532},\n",
       " {'lon': -116.17722617203928, 'lat': 43.68716581337416},\n",
       " {'lon': -116.17543888675564, 'lat': 43.68693093770513},\n",
       " {'lon': -116.1746943502404, 'lat': 43.686837543426144}]"
      ]
     },
     "execution_count": 6,
     "metadata": {},
     "output_type": "execute_result"
    }
   ],
   "source": [
    "# Specify region of interest from geojson\n",
    "poly_fn = 'DryCreek/boundDCEW/boundDCEW_WGS84.geojson'\n",
    "region = icesat2.toregion(poly_fn)[\"poly\"] # symplify \n",
    "region"
   ]
  },
  {
   "cell_type": "code",
   "execution_count": 8,
   "id": "7e03aa49",
   "metadata": {},
   "outputs": [],
   "source": [
    "# Prepare coordinate lists for plotting the region of interest polygon\n",
    "region_lon = [e[\"lon\"] for e in region]\n",
    "region_lat = [e[\"lat\"] for e in region]"
   ]
  },
  {
   "cell_type": "code",
   "execution_count": 14,
   "id": "b7e4515b",
   "metadata": {},
   "outputs": [
    {
     "data": {
      "image/png": "[encoded data removed]",
      "text/plain": [
       "<Figure size 432x288 with 1 Axes>"
      ]
     },
     "metadata": {
      "needs_background": "light"
     },
     "output_type": "display_data"
    }
   ],
   "source": [
    "# Read geojson with geopandas\n",
    "pregion = gpd.read_file(poly_fn)\n",
    "map = pregion.plot(); # plot origonal boundery \n",
    "map.plot(region_lon, region_lat, linewidth=1, color='g'); # plot symplified region boundery for a sanity check"
   ]
  },
  {
   "cell_type": "markdown",
   "id": "50f97261",
   "metadata": {},
   "source": [
    "## Specify parameters for ATL06-SR (Sliderule) processing"
   ]
  },
  {
   "cell_type": "code",
   "execution_count": 11,
   "id": "31c5d508",
   "metadata": {},
   "outputs": [],
   "source": [
    "# Build ATL06 Request\n",
    "parms = {\n",
    "    \"poly\": region,\n",
    "    \"srt\": icesat2.SRT_LAND,\n",
    "    \"cnf\": icesat2.CNF_SURFACE_HIGH,\n",
    "    \"ats\": 10.0,\n",
    "    \"cnt\": 10,\n",
    "    \"len\": 40.0,\n",
    "    \"res\": 20.0,\n",
    "    \"maxi\": 1\n",
    "}"
   ]
  },
  {
   "cell_type": "markdown",
   "id": "358b4437",
   "metadata": {},
   "source": [
    "## Calculate ATL06-SR Elevations from ATL03 Photons using SlideRule"
   ]
  },
  {
   "cell_type": "code",
   "execution_count": 12,
   "id": "aa64d478",
   "metadata": {},
   "outputs": [
    {
     "name": "stdout",
     "output_type": "stream",
     "text": [
      "Completed in 14.383 seconds of wall-clock time\n",
      "Received 4532 elevations\n"
     ]
    }
   ],
   "source": [
    "# Latch Start Time\n",
    "perf_start = time.perf_counter()\n",
    "\n",
    "# Request ATL06 Data\n",
    "atl06_sr = icesat2.atl06p(parms)\n",
    "\n",
    "# Latch Stop Time\n",
    "perf_stop = time.perf_counter()\n",
    "\n",
    "# Display Statistics\n",
    "perf_duration = perf_stop - perf_start\n",
    "print(\"Completed in {:.3f} seconds of wall-clock time\".format(perf_duration))\n",
    "#print(\"Reference Ground Tracks: {}\".format(atl06_sr[\"rgt\"].unique()))\n",
    "#print(\"Cycles: {}\".format(atl06_sr[\"cycle\"].unique()))\n",
    "print(\"Received {} elevations\".format(atl06_sr.shape[0]))"
   ]
  },
  {
   "cell_type": "markdown",
   "id": "c7c141ca",
   "metadata": {},
   "source": [
    "## Plot ATL06-SR Results"
   ]
  },
  {
   "cell_type": "code",
   "execution_count": 15,
   "id": "6800cb28",
   "metadata": {},
   "outputs": [
    {
     "data": {
      "image/png": "[encoded data removed]",
      "text/plain": [
       "<Figure size 432x288 with 1 Axes>"
      ]
     },
     "metadata": {
      "needs_background": "light"
     },
     "output_type": "display_data"
    }
   ],
   "source": [
    "f, ax = plt.subplots()\n",
    "ax.set_title(\"ATL06-SR Points\")\n",
    "ax.set_aspect('equal')\n",
    "atl06_sr.plot(ax=ax, column='h_mean', cmap='inferno', s=0.1)\n",
    "ax.plot(region_lon, region_lat, linewidth=1, color='g');"
   ]
  },
  {
   "cell_type": "code",
   "execution_count": 17,
   "id": "b633ec89",
   "metadata": {},
   "outputs": [
    {
     "data": {
      "text/html": [
       "<div>\n",
       "<style scoped>\n",
       "    .dataframe tbody tr th:only-of-type {\n",
       "        vertical-align: middle;\n",
       "    }\n",
       "\n",
       "    .dataframe tbody tr th {\n",
       "        vertical-align: top;\n",
       "    }\n",
       "\n",
       "    .dataframe thead th {\n",
       "        text-align: right;\n",
       "    }\n",
       "</style>\n",
       "<table border=\"1\" class=\"dataframe\">\n",
       "  <thead>\n",
       "    <tr style=\"text-align: right;\">\n",
       "      <th></th>\n",
       "      <th>gt</th>\n",
       "      <th>cycle</th>\n",
       "      <th>distance</th>\n",
       "      <th>segment_id</th>\n",
       "      <th>dh_fit_dy</th>\n",
       "      <th>delta_time</th>\n",
       "      <th>n_fit_photons</th>\n",
       "      <th>pflags</th>\n",
       "      <th>spot</th>\n",
       "      <th>rms_misfit</th>\n",
       "      <th>w_surface_window_final</th>\n",
       "      <th>dh_fit_dx</th>\n",
       "      <th>h_mean</th>\n",
       "      <th>rgt</th>\n",
       "      <th>h_sigma</th>\n",
       "      <th>geometry</th>\n",
       "    </tr>\n",
       "    <tr>\n",
       "      <th>time</th>\n",
       "      <th></th>\n",
       "      <th></th>\n",
       "      <th></th>\n",
       "      <th></th>\n",
       "      <th></th>\n",
       "      <th></th>\n",
       "      <th></th>\n",
       "      <th></th>\n",
       "      <th></th>\n",
       "      <th></th>\n",
       "      <th></th>\n",
       "      <th></th>\n",
       "      <th></th>\n",
       "      <th></th>\n",
       "      <th></th>\n",
       "      <th></th>\n",
       "    </tr>\n",
       "  </thead>\n",
       "  <tbody>\n",
       "    <tr>\n",
       "      <th>2019-07-24 09:40:48.545911048</th>\n",
       "      <td>10</td>\n",
       "      <td>4</td>\n",
       "      <td>4.862195e+06</td>\n",
       "      <td>242458</td>\n",
       "      <td>0.0</td>\n",
       "      <td>4.919645e+07</td>\n",
       "      <td>16</td>\n",
       "      <td>4</td>\n",
       "      <td>1</td>\n",
       "      <td>2.301591</td>\n",
       "      <td>12.107126</td>\n",
       "      <td>0.474183</td>\n",
       "      <td>1049.006999</td>\n",
       "      <td>402</td>\n",
       "      <td>0.652501</td>\n",
       "      <td>POINT (-116.17667 43.68859)</td>\n",
       "    </tr>\n",
       "    <tr>\n",
       "      <th>2019-07-24 09:40:48.548748376</th>\n",
       "      <td>10</td>\n",
       "      <td>4</td>\n",
       "      <td>4.862215e+06</td>\n",
       "      <td>242459</td>\n",
       "      <td>0.0</td>\n",
       "      <td>4.919645e+07</td>\n",
       "      <td>21</td>\n",
       "      <td>4</td>\n",
       "      <td>1</td>\n",
       "      <td>2.018206</td>\n",
       "      <td>9.541225</td>\n",
       "      <td>0.294585</td>\n",
       "      <td>1056.251134</td>\n",
       "      <td>402</td>\n",
       "      <td>0.443696</td>\n",
       "      <td>POINT (-116.17669 43.68877)</td>\n",
       "    </tr>\n",
       "    <tr>\n",
       "      <th>2019-07-24 09:40:48.551592880</th>\n",
       "      <td>10</td>\n",
       "      <td>4</td>\n",
       "      <td>4.862235e+06</td>\n",
       "      <td>242460</td>\n",
       "      <td>0.0</td>\n",
       "      <td>4.919645e+07</td>\n",
       "      <td>29</td>\n",
       "      <td>4</td>\n",
       "      <td>1</td>\n",
       "      <td>2.188563</td>\n",
       "      <td>10.363779</td>\n",
       "      <td>0.405714</td>\n",
       "      <td>1063.509090</td>\n",
       "      <td>402</td>\n",
       "      <td>0.412118</td>\n",
       "      <td>POINT (-116.17672 43.68895)</td>\n",
       "    </tr>\n",
       "    <tr>\n",
       "      <th>2019-07-24 09:40:48.554452648</th>\n",
       "      <td>10</td>\n",
       "      <td>4</td>\n",
       "      <td>4.862255e+06</td>\n",
       "      <td>242461</td>\n",
       "      <td>0.0</td>\n",
       "      <td>4.919645e+07</td>\n",
       "      <td>47</td>\n",
       "      <td>4</td>\n",
       "      <td>1</td>\n",
       "      <td>1.769507</td>\n",
       "      <td>10.174718</td>\n",
       "      <td>0.398287</td>\n",
       "      <td>1071.684253</td>\n",
       "      <td>402</td>\n",
       "      <td>0.258744</td>\n",
       "      <td>POINT (-116.17674 43.68913)</td>\n",
       "    </tr>\n",
       "    <tr>\n",
       "      <th>2019-07-24 09:40:48.557320792</th>\n",
       "      <td>10</td>\n",
       "      <td>4</td>\n",
       "      <td>4.862275e+06</td>\n",
       "      <td>242462</td>\n",
       "      <td>0.0</td>\n",
       "      <td>4.919645e+07</td>\n",
       "      <td>59</td>\n",
       "      <td>0</td>\n",
       "      <td>1</td>\n",
       "      <td>1.488159</td>\n",
       "      <td>12.870970</td>\n",
       "      <td>0.504174</td>\n",
       "      <td>1080.622502</td>\n",
       "      <td>402</td>\n",
       "      <td>0.193936</td>\n",
       "      <td>POINT (-116.17677 43.68931)</td>\n",
       "    </tr>\n",
       "  </tbody>\n",
       "</table>\n",
       "</div>"
      ],
      "text/plain": [
       "                               gt  cycle      distance  segment_id  dh_fit_dy  \\\n",
       "time                                                                            \n",
       "2019-07-24 09:40:48.545911048  10      4  4.862195e+06      242458        0.0   \n",
       "2019-07-24 09:40:48.548748376  10      4  4.862215e+06      242459        0.0   \n",
       "2019-07-24 09:40:48.551592880  10      4  4.862235e+06      242460        0.0   \n",
       "2019-07-24 09:40:48.554452648  10      4  4.862255e+06      242461        0.0   \n",
       "2019-07-24 09:40:48.557320792  10      4  4.862275e+06      242462        0.0   \n",
       "\n",
       "                                 delta_time  n_fit_photons  pflags  spot  \\\n",
       "time                                                                       \n",
       "2019-07-24 09:40:48.545911048  4.919645e+07             16       4     1   \n",
       "2019-07-24 09:40:48.548748376  4.919645e+07             21       4     1   \n",
       "2019-07-24 09:40:48.551592880  4.919645e+07             29       4     1   \n",
       "2019-07-24 09:40:48.554452648  4.919645e+07             47       4     1   \n",
       "2019-07-24 09:40:48.557320792  4.919645e+07             59       0     1   \n",
       "\n",
       "                               rms_misfit  w_surface_window_final  dh_fit_dx  \\\n",
       "time                                                                           \n",
       "2019-07-24 09:40:48.545911048    2.301591               12.107126   0.474183   \n",
       "2019-07-24 09:40:48.548748376    2.018206                9.541225   0.294585   \n",
       "2019-07-24 09:40:48.551592880    2.188563               10.363779   0.405714   \n",
       "2019-07-24 09:40:48.554452648    1.769507               10.174718   0.398287   \n",
       "2019-07-24 09:40:48.557320792    1.488159               12.870970   0.504174   \n",
       "\n",
       "                                    h_mean  rgt   h_sigma  \\\n",
       "time                                                        \n",
       "2019-07-24 09:40:48.545911048  1049.006999  402  0.652501   \n",
       "2019-07-24 09:40:48.548748376  1056.251134  402  0.443696   \n",
       "2019-07-24 09:40:48.551592880  1063.509090  402  0.412118   \n",
       "2019-07-24 09:40:48.554452648  1071.684253  402  0.258744   \n",
       "2019-07-24 09:40:48.557320792  1080.622502  402  0.193936   \n",
       "\n",
       "                                                  geometry  \n",
       "time                                                        \n",
       "2019-07-24 09:40:48.545911048  POINT (-116.17667 43.68859)  \n",
       "2019-07-24 09:40:48.548748376  POINT (-116.17669 43.68877)  \n",
       "2019-07-24 09:40:48.551592880  POINT (-116.17672 43.68895)  \n",
       "2019-07-24 09:40:48.554452648  POINT (-116.17674 43.68913)  \n",
       "2019-07-24 09:40:48.557320792  POINT (-116.17677 43.68931)  "
      ]
     },
     "execution_count": 17,
     "metadata": {},
     "output_type": "execute_result"
    }
   ],
   "source": [
    "atl06_sr.head()"
   ]
  },
  {
   "cell_type": "code",
   "execution_count": null,
   "id": "0098d652",
   "metadata": {},
   "outputs": [],
   "source": []
  }
 ],
 "metadata": {
  "kernelspec": {
   "display_name": "Python 3 (ipykernel)",
   "language": "python",
   "name": "python3"
  },
  "language_info": {
   "codemirror_mode": {
    "name": "ipython",
    "version": 3
   },
   "file_extension": ".py",
   "mimetype": "text/x-python",
   "name": "python",
   "nbconvert_exporter": "python",
   "pygments_lexer": "ipython3",
   "version": "3.8.13"
  }
 },
 "nbformat": 4,
 "nbformat_minor": 5
}
