{
 "cells": [
  {
   "cell_type": "markdown",
   "id": "adec21b9",
   "metadata": {},
   "source": [
    "## ICESat-2 SlideRule Download\n",
    "\n",
    "This code is adapted from Sliderule Python example code. It is designed to calculate ATL06 elevations from ALT03 points and save those elevations as a CSV. \n",
    "\n",
    "Activate sliderule enviroment to run"
   ]
  },
  {
   "cell_type": "code",
   "execution_count": 1,
   "id": "2c4a16f4",
   "metadata": {},
   "outputs": [],
   "source": [
    "import sys\n",
    "import logging\n",
    "import concurrent.futures\n",
    "import time\n",
    "from datetime import datetime\n",
    "import pandas as pd\n",
    "import geopandas as gpd\n",
    "import matplotlib.pyplot as plt\n",
    "from pyproj import Transformer, CRS\n",
    "from shapely.geometry import Polygon, Point\n",
    "from sliderule import icesat2\n",
    "from sliderule import sliderule"
   ]
  },
  {
   "cell_type": "markdown",
   "id": "9af7ad61",
   "metadata": {},
   "source": [
    "## SlideRule Configuration"
   ]
  },
  {
   "cell_type": "code",
   "execution_count": 2,
   "id": "f01cf9d3",
   "metadata": {},
   "outputs": [],
   "source": [
    "# Configure ICESat-2 API\n",
    "icesat2.init(\"icesat2sliderule.org\", False)"
   ]
  },
  {
   "cell_type": "markdown",
   "id": "4da5abf9",
   "metadata": {},
   "source": [
    "## Specify Region of Interest"
   ]
  },
  {
   "cell_type": "markdown",
   "id": "df0dd474",
   "metadata": {},
   "source": [
    "#### 1. Make geojson from shapefile - if you have a geojson of the region skip to 2."
   ]
  },
  {
   "cell_type": "code",
   "execution_count": 3,
   "id": "7be0c803",
   "metadata": {},
   "outputs": [
    {
     "name": "stderr",
     "output_type": "stream",
     "text": [
      "/Users/karinazikan/opt/anaconda3/envs/sliderule/lib/python3.8/site-packages/geopandas/io/file.py:362: FutureWarning: pandas.Int64Index is deprecated and will be removed from pandas in a future version. Use pandas.Index with the appropriate dtype instead.\n",
      "  pd.Int64Index,\n"
     ]
    },
    {
     "data": {
      "text/plain": [
       "False"
      ]
     },
     "execution_count": 3,
     "metadata": {},
     "output_type": "execute_result"
    }
   ],
   "source": [
    "# Specify region of interest shapefile\n",
    "shp = \"RCEW/boundRCEW/RCEW-outline_WG84.shp\"\n",
    "shapefile = gpd.read_file(shp)\n",
    "shapefile.to_file('RCEW/boundRCEW/boundRCEW_WGS84.geojson', driver='GeoJSON')\n",
    "shapefile.crs is None"
   ]
  },
  {
   "cell_type": "code",
   "execution_count": 4,
   "id": "8f89519c",
   "metadata": {},
   "outputs": [
    {
     "data": {
      "text/plain": [
       "<Geographic 2D CRS: EPSG:4326>\n",
       "Name: WGS 84\n",
       "Axis Info [ellipsoidal]:\n",
       "- Lat[north]: Geodetic latitude (degree)\n",
       "- Lon[east]: Geodetic longitude (degree)\n",
       "Area of Use:\n",
       "- name: World.\n",
       "- bounds: (-180.0, -90.0, 180.0, 90.0)\n",
       "Datum: World Geodetic System 1984 ensemble\n",
       "- Ellipsoid: WGS 84\n",
       "- Prime Meridian: Greenwich"
      ]
     },
     "execution_count": 4,
     "metadata": {},
     "output_type": "execute_result"
    }
   ],
   "source": [
    "## if shapefile.crs is None is false check the crs\n",
    "shapefile.crs"
   ]
  },
  {
   "cell_type": "code",
   "execution_count": null,
   "id": "ee133c67",
   "metadata": {},
   "outputs": [],
   "source": [
    "## if shapefile.crs is None is true run this section\n",
    "crs = 'epsg:8826' # set the starting datum using the epsg code\n",
    "icesat_crs = 4979 # epsg code for WGS84\n",
    "shapefile = shapefile.set_crs(crs)\n",
    "shapefile = shapefile.to_crs(icesat_crs) # transform to WGS84 \n",
    "shapefile.to_file('DryCreek/boundDCEW/boundDCEW_WGS84.geojson', driver='GeoJSON')"
   ]
  },
  {
   "cell_type": "code",
   "execution_count": null,
   "id": "9f0fd1bc",
   "metadata": {},
   "outputs": [],
   "source": [
    "## if shapefile.crs is not WGS84 run this section\n",
    "icesat_crs = 4979 # epsg code for WGS84\n",
    "shapefile = shapefile.to_crs(icesat_crs) # transform to WGS84 \n",
    "shapefile.to_file('DryCreek/boundDCEW/boundDCEW_WGS84.geojson', driver='GeoJSON')"
   ]
  },
  {
   "cell_type": "markdown",
   "id": "b245490e",
   "metadata": {},
   "source": [
    "#### 2. Read in geojson for Region of Interest"
   ]
  },
  {
   "cell_type": "code",
   "execution_count": 5,
   "id": "d1897d7a",
   "metadata": {},
   "outputs": [
    {
     "data": {
      "text/plain": [
       "[{'lon': -116.799, 'lat': 43.06089},\n",
       " {'lon': -116.7954, 'lat': 43.06089},\n",
       " {'lon': -116.7481, 'lat': 43.06268},\n",
       " {'lon': -116.747, 'lat': 43.06295},\n",
       " {'lon': -116.7411, 'lat': 43.06456},\n",
       " {'lon': -116.7409, 'lat': 43.06469},\n",
       " {'lon': -116.7392, 'lat': 43.06591},\n",
       " {'lon': -116.7379, 'lat': 43.06712},\n",
       " {'lon': -116.7179, 'lat': 43.09706},\n",
       " {'lon': -116.7008, 'lat': 43.12889},\n",
       " {'lon': -116.6963, 'lat': 43.13834},\n",
       " {'lon': -116.696, 'lat': 43.13915},\n",
       " {'lon': -116.6922, 'lat': 43.15454},\n",
       " {'lon': -116.6881, 'lat': 43.22341},\n",
       " {'lon': -116.6881, 'lat': 43.22476},\n",
       " {'lon': -116.6947, 'lat': 43.24693},\n",
       " {'lon': -116.6954, 'lat': 43.24828},\n",
       " {'lon': -116.6958, 'lat': 43.24883},\n",
       " {'lon': -116.702, 'lat': 43.2564},\n",
       " {'lon': -116.7022, 'lat': 43.25654},\n",
       " {'lon': -116.7579, 'lat': 43.2872},\n",
       " {'lon': -116.7605, 'lat': 43.28828},\n",
       " {'lon': -116.7612, 'lat': 43.28856},\n",
       " {'lon': -116.8199, 'lat': 43.31163},\n",
       " {'lon': -116.8251, 'lat': 43.31298},\n",
       " {'lon': -116.8266, 'lat': 43.31218},\n",
       " {'lon': -116.8303, 'lat': 43.31002},\n",
       " {'lon': -116.8305, 'lat': 43.30989},\n",
       " {'lon': -116.8559, 'lat': 43.29223},\n",
       " {'lon': -116.8561, 'lat': 43.29209},\n",
       " {'lon': -116.8564, 'lat': 43.29182},\n",
       " {'lon': -116.8594, 'lat': 43.26859},\n",
       " {'lon': -116.8574, 'lat': 43.2151},\n",
       " {'lon': -116.8563, 'lat': 43.20781},\n",
       " {'lon': -116.8363, 'lat': 43.08162},\n",
       " {'lon': -116.8341, 'lat': 43.07946},\n",
       " {'lon': -116.8319, 'lat': 43.07783},\n",
       " {'lon': -116.8317, 'lat': 43.07769},\n",
       " {'lon': -116.8282, 'lat': 43.07539},\n",
       " {'lon': -116.828, 'lat': 43.07526},\n",
       " {'lon': -116.799, 'lat': 43.06089}]"
      ]
     },
     "execution_count": 5,
     "metadata": {},
     "output_type": "execute_result"
    }
   ],
   "source": [
    "# Specify region of interest from geojson\n",
    "poly_fn = 'RCEW/boundRCEW/boundRCEW_WGS84.geojson'\n",
    "region = icesat2.toregion(poly_fn)[\"poly\"] # symplify \n",
    "region"
   ]
  },
  {
   "cell_type": "code",
   "execution_count": 6,
   "id": "7e03aa49",
   "metadata": {},
   "outputs": [],
   "source": [
    "# Prepare coordinate lists for plotting the region of interest polygon\n",
    "region_lon = [e[\"lon\"] for e in region]\n",
    "region_lat = [e[\"lat\"] for e in region]"
   ]
  },
  {
   "cell_type": "code",
   "execution_count": 7,
   "id": "b7e4515b",
   "metadata": {},
   "outputs": [
    {
     "data": {
      "image/png": "[encoded data removed]",
      "text/plain": [
       "<Figure size 432x288 with 1 Axes>"
      ]
     },
     "metadata": {
      "needs_background": "light"
     },
     "output_type": "display_data"
    }
   ],
   "source": [
    "# Read geojson with geopandas\n",
    "pregion = gpd.read_file(poly_fn)\n",
    "map = pregion.plot(); # plot origonal boundery \n",
    "map.plot(region_lon, region_lat, linewidth=1, color='g'); # plot symplified region boundery for a sanity check"
   ]
  },
  {
   "cell_type": "markdown",
   "id": "50f97261",
   "metadata": {},
   "source": [
    "## Specify parameters for ATL06-SR (Sliderule) processing"
   ]
  },
  {
   "cell_type": "code",
   "execution_count": 8,
   "id": "31c5d508",
   "metadata": {},
   "outputs": [],
   "source": [
    "# Build ATL06 Request #if remove \"atl08_class\", change icesat2.CNF_BACKGROUND to CNF_SURFACE_HIGH\n",
    "parms = {\n",
    "    \"poly\": region,\n",
    "    \"srt\": icesat2.SRT_LAND,\n",
    "    \"atl08_class\": \"atl08_ground\",\n",
    "    \"cnf\": icesat2.CNF_BACKGROUND, \n",
    "    \"ats\": 20.0,\n",
    "    \"cnt\": 10,\n",
    "    \"len\": 40.0,\n",
    "    \"res\": 20.0,\n",
    "    \"maxi\": 6\n",
    "}"
   ]
  },
  {
   "cell_type": "markdown",
   "id": "358b4437",
   "metadata": {},
   "source": [
    "## Calculate ATL06-SR Elevations from ATL03 Photons using SlideRule"
   ]
  },
  {
   "cell_type": "code",
   "execution_count": 9,
   "id": "aa64d478",
   "metadata": {},
   "outputs": [
    {
     "name": "stdout",
     "output_type": "stream",
     "text": [
      "Completed in 28.680 seconds of wall-clock time\n",
      "Received 72707 elevations\n"
     ]
    }
   ],
   "source": [
    "# Latch Start Time\n",
    "perf_start = time.perf_counter()\n",
    "\n",
    "# Request ATL06 Data\n",
    "atl06_sr = icesat2.atl06p(parms)\n",
    "\n",
    "# Latch Stop Time\n",
    "perf_stop = time.perf_counter()\n",
    "\n",
    "# Display Statistics\n",
    "perf_duration = perf_stop - perf_start\n",
    "print(\"Completed in {:.3f} seconds of wall-clock time\".format(perf_duration))\n",
    "#print(\"Reference Ground Tracks: {}\".format(atl06_sr[\"rgt\"].unique()))\n",
    "#print(\"Cycles: {}\".format(atl06_sr[\"cycle\"].unique()))\n",
    "print(\"Received {} elevations\".format(atl06_sr.shape[0]))"
   ]
  },
  {
   "cell_type": "markdown",
   "id": "c7c141ca",
   "metadata": {},
   "source": [
    "## Plot ATL06-SR Results"
   ]
  },
  {
   "cell_type": "code",
   "execution_count": 10,
   "id": "6800cb28",
   "metadata": {},
   "outputs": [
    {
     "data": {
      "image/png": "[encoded data removed]",
      "text/plain": [
       "<Figure size 432x288 with 1 Axes>"
      ]
     },
     "metadata": {
      "needs_background": "light"
     },
     "output_type": "display_data"
    }
   ],
   "source": [
    "f, ax = plt.subplots()\n",
    "ax.set_title(\"ATL06-SR Points\")\n",
    "ax.set_aspect('equal')\n",
    "atl06_sr.plot(ax=ax, column='h_mean', cmap='inferno', s=0.1)\n",
    "ax.plot(region_lon, region_lat, linewidth=1, color='g');"
   ]
  },
  {
   "cell_type": "code",
   "execution_count": 36,
   "id": "b633ec89",
   "metadata": {},
   "outputs": [
    {
     "data": {
      "text/html": [
       "<div>\n",
       "<style scoped>\n",
       "    .dataframe tbody tr th:only-of-type {\n",
       "        vertical-align: middle;\n",
       "    }\n",
       "\n",
       "    .dataframe tbody tr th {\n",
       "        vertical-align: top;\n",
       "    }\n",
       "\n",
       "    .dataframe thead th {\n",
       "        text-align: right;\n",
       "    }\n",
       "</style>\n",
       "<table border=\"1\" class=\"dataframe\">\n",
       "  <thead>\n",
       "    <tr style=\"text-align: right;\">\n",
       "      <th></th>\n",
       "      <th>spot</th>\n",
       "      <th>gt</th>\n",
       "      <th>dh_fit_dx</th>\n",
       "      <th>h_sigma</th>\n",
       "      <th>pflags</th>\n",
       "      <th>segment_id</th>\n",
       "      <th>delta_time</th>\n",
       "      <th>cycle</th>\n",
       "      <th>rgt</th>\n",
       "      <th>dh_fit_dy</th>\n",
       "      <th>w_surface_window_final</th>\n",
       "      <th>n_fit_photons</th>\n",
       "      <th>distance</th>\n",
       "      <th>rms_misfit</th>\n",
       "      <th>h_mean</th>\n",
       "      <th>geometry</th>\n",
       "      <th>Latitude</th>\n",
       "      <th>Longitude</th>\n",
       "      <th>Easting</th>\n",
       "      <th>Northing</th>\n",
       "    </tr>\n",
       "    <tr>\n",
       "      <th>time</th>\n",
       "      <th></th>\n",
       "      <th></th>\n",
       "      <th></th>\n",
       "      <th></th>\n",
       "      <th></th>\n",
       "      <th></th>\n",
       "      <th></th>\n",
       "      <th></th>\n",
       "      <th></th>\n",
       "      <th></th>\n",
       "      <th></th>\n",
       "      <th></th>\n",
       "      <th></th>\n",
       "      <th></th>\n",
       "      <th></th>\n",
       "      <th></th>\n",
       "      <th></th>\n",
       "      <th></th>\n",
       "      <th></th>\n",
       "      <th></th>\n",
       "    </tr>\n",
       "  </thead>\n",
       "  <tbody>\n",
       "    <tr>\n",
       "      <th>2018-11-26 21:09:05.940407724</th>\n",
       "      <td>6</td>\n",
       "      <td>10</td>\n",
       "      <td>-0.175885</td>\n",
       "      <td>0.216088</td>\n",
       "      <td>0</td>\n",
       "      <td>239687</td>\n",
       "      <td>2.850175e+07</td>\n",
       "      <td>1</td>\n",
       "      <td>905</td>\n",
       "      <td>0.0</td>\n",
       "      <td>4.526581</td>\n",
       "      <td>12</td>\n",
       "      <td>4.806611e+06</td>\n",
       "      <td>0.389217</td>\n",
       "      <td>1334.337122</td>\n",
       "      <td>POINT (-116.69469 43.18609)</td>\n",
       "      <td>43.186091</td>\n",
       "      <td>-116.694691</td>\n",
       "      <td>524810.037093</td>\n",
       "      <td>4.781525e+06</td>\n",
       "    </tr>\n",
       "    <tr>\n",
       "      <th>2018-11-26 21:09:06.007120300</th>\n",
       "      <td>5</td>\n",
       "      <td>20</td>\n",
       "      <td>-0.260151</td>\n",
       "      <td>0.127058</td>\n",
       "      <td>0</td>\n",
       "      <td>239590</td>\n",
       "      <td>2.850175e+07</td>\n",
       "      <td>1</td>\n",
       "      <td>905</td>\n",
       "      <td>0.0</td>\n",
       "      <td>6.661973</td>\n",
       "      <td>14</td>\n",
       "      <td>4.804667e+06</td>\n",
       "      <td>0.455983</td>\n",
       "      <td>1423.868211</td>\n",
       "      <td>POINT (-116.69146 43.16874)</td>\n",
       "      <td>43.168739</td>\n",
       "      <td>-116.691463</td>\n",
       "      <td>525079.458744</td>\n",
       "      <td>4.779599e+06</td>\n",
       "    </tr>\n",
       "    <tr>\n",
       "      <th>2018-11-26 21:09:06.009937656</th>\n",
       "      <td>5</td>\n",
       "      <td>20</td>\n",
       "      <td>-0.225228</td>\n",
       "      <td>0.092447</td>\n",
       "      <td>0</td>\n",
       "      <td>239591</td>\n",
       "      <td>2.850175e+07</td>\n",
       "      <td>1</td>\n",
       "      <td>905</td>\n",
       "      <td>0.0</td>\n",
       "      <td>5.775791</td>\n",
       "      <td>19</td>\n",
       "      <td>4.804687e+06</td>\n",
       "      <td>0.402960</td>\n",
       "      <td>1419.190789</td>\n",
       "      <td>POINT (-116.69149 43.16892)</td>\n",
       "      <td>43.168918</td>\n",
       "      <td>-116.691486</td>\n",
       "      <td>525077.461122</td>\n",
       "      <td>4.779619e+06</td>\n",
       "    </tr>\n",
       "    <tr>\n",
       "      <th>2018-11-26 21:09:06.012749052</th>\n",
       "      <td>5</td>\n",
       "      <td>20</td>\n",
       "      <td>-0.105756</td>\n",
       "      <td>0.087934</td>\n",
       "      <td>0</td>\n",
       "      <td>239592</td>\n",
       "      <td>2.850175e+07</td>\n",
       "      <td>1</td>\n",
       "      <td>905</td>\n",
       "      <td>0.0</td>\n",
       "      <td>3.384974</td>\n",
       "      <td>14</td>\n",
       "      <td>4.804707e+06</td>\n",
       "      <td>0.327415</td>\n",
       "      <td>1415.312079</td>\n",
       "      <td>POINT (-116.69151 43.16910)</td>\n",
       "      <td>43.169098</td>\n",
       "      <td>-116.691510</td>\n",
       "      <td>525075.448380</td>\n",
       "      <td>4.779639e+06</td>\n",
       "    </tr>\n",
       "    <tr>\n",
       "      <th>2018-11-26 21:09:06.021148344</th>\n",
       "      <td>5</td>\n",
       "      <td>20</td>\n",
       "      <td>-0.110525</td>\n",
       "      <td>0.073023</td>\n",
       "      <td>0</td>\n",
       "      <td>239595</td>\n",
       "      <td>2.850175e+07</td>\n",
       "      <td>1</td>\n",
       "      <td>905</td>\n",
       "      <td>0.0</td>\n",
       "      <td>3.000000</td>\n",
       "      <td>11</td>\n",
       "      <td>4.804767e+06</td>\n",
       "      <td>0.175884</td>\n",
       "      <td>1410.601461</td>\n",
       "      <td>POINT (-116.69158 43.16964)</td>\n",
       "      <td>43.169636</td>\n",
       "      <td>-116.691582</td>\n",
       "      <td>525069.366480</td>\n",
       "      <td>4.779699e+06</td>\n",
       "    </tr>\n",
       "  </tbody>\n",
       "</table>\n",
       "</div>"
      ],
      "text/plain": [
       "                               spot  gt  dh_fit_dx   h_sigma  pflags  \\\n",
       "time                                                                   \n",
       "2018-11-26 21:09:05.940407724     6  10  -0.175885  0.216088       0   \n",
       "2018-11-26 21:09:06.007120300     5  20  -0.260151  0.127058       0   \n",
       "2018-11-26 21:09:06.009937656     5  20  -0.225228  0.092447       0   \n",
       "2018-11-26 21:09:06.012749052     5  20  -0.105756  0.087934       0   \n",
       "2018-11-26 21:09:06.021148344     5  20  -0.110525  0.073023       0   \n",
       "\n",
       "                               segment_id    delta_time  cycle  rgt  \\\n",
       "time                                                                  \n",
       "2018-11-26 21:09:05.940407724      239687  2.850175e+07      1  905   \n",
       "2018-11-26 21:09:06.007120300      239590  2.850175e+07      1  905   \n",
       "2018-11-26 21:09:06.009937656      239591  2.850175e+07      1  905   \n",
       "2018-11-26 21:09:06.012749052      239592  2.850175e+07      1  905   \n",
       "2018-11-26 21:09:06.021148344      239595  2.850175e+07      1  905   \n",
       "\n",
       "                               dh_fit_dy  w_surface_window_final  \\\n",
       "time                                                               \n",
       "2018-11-26 21:09:05.940407724        0.0                4.526581   \n",
       "2018-11-26 21:09:06.007120300        0.0                6.661973   \n",
       "2018-11-26 21:09:06.009937656        0.0                5.775791   \n",
       "2018-11-26 21:09:06.012749052        0.0                3.384974   \n",
       "2018-11-26 21:09:06.021148344        0.0                3.000000   \n",
       "\n",
       "                               n_fit_photons      distance  rms_misfit  \\\n",
       "time                                                                     \n",
       "2018-11-26 21:09:05.940407724             12  4.806611e+06    0.389217   \n",
       "2018-11-26 21:09:06.007120300             14  4.804667e+06    0.455983   \n",
       "2018-11-26 21:09:06.009937656             19  4.804687e+06    0.402960   \n",
       "2018-11-26 21:09:06.012749052             14  4.804707e+06    0.327415   \n",
       "2018-11-26 21:09:06.021148344             11  4.804767e+06    0.175884   \n",
       "\n",
       "                                    h_mean                     geometry  \\\n",
       "time                                                                      \n",
       "2018-11-26 21:09:05.940407724  1334.337122  POINT (-116.69469 43.18609)   \n",
       "2018-11-26 21:09:06.007120300  1423.868211  POINT (-116.69146 43.16874)   \n",
       "2018-11-26 21:09:06.009937656  1419.190789  POINT (-116.69149 43.16892)   \n",
       "2018-11-26 21:09:06.012749052  1415.312079  POINT (-116.69151 43.16910)   \n",
       "2018-11-26 21:09:06.021148344  1410.601461  POINT (-116.69158 43.16964)   \n",
       "\n",
       "                                Latitude   Longitude        Easting  \\\n",
       "time                                                                  \n",
       "2018-11-26 21:09:05.940407724  43.186091 -116.694691  524810.037093   \n",
       "2018-11-26 21:09:06.007120300  43.168739 -116.691463  525079.458744   \n",
       "2018-11-26 21:09:06.009937656  43.168918 -116.691486  525077.461122   \n",
       "2018-11-26 21:09:06.012749052  43.169098 -116.691510  525075.448380   \n",
       "2018-11-26 21:09:06.021148344  43.169636 -116.691582  525069.366480   \n",
       "\n",
       "                                   Northing  \n",
       "time                                         \n",
       "2018-11-26 21:09:05.940407724  4.781525e+06  \n",
       "2018-11-26 21:09:06.007120300  4.779599e+06  \n",
       "2018-11-26 21:09:06.009937656  4.779619e+06  \n",
       "2018-11-26 21:09:06.012749052  4.779639e+06  \n",
       "2018-11-26 21:09:06.021148344  4.779699e+06  "
      ]
     },
     "execution_count": 36,
     "metadata": {},
     "output_type": "execute_result"
    }
   ],
   "source": [
    "#Set utmzone code - utm zone 11:32611\n",
    "utm_code = 'epsg:32611'\n",
    "\n",
    "atl06_sr['Longitude'] = atl06_sr['geometry'].x\n",
    "atl06_sr['Latitude'] = atl06_sr['geometry'].y\n",
    "eastnorths = atl06_sr['geometry'].to_crs(utm_code)\n",
    "atl06_sr['Easting'] = eastnorths.x\n",
    "atl06_sr['Northing'] = eastnorths.y\n",
    "atl06_sr.head()"
   ]
  },
  {
   "cell_type": "markdown",
   "id": "1a407769",
   "metadata": {},
   "source": [
    "## Write CSV"
   ]
  },
  {
   "cell_type": "code",
   "execution_count": 37,
   "id": "729f0e80",
   "metadata": {},
   "outputs": [],
   "source": [
    "atl06_sr.to_csv(\"RCEW/RCEW-ICESat2-ATL06sr-atl08class.csv\")"
   ]
  },
  {
   "cell_type": "code",
   "execution_count": 48,
   "id": "ed3413d4",
   "metadata": {},
   "outputs": [
    {
     "ename": "KeyError",
     "evalue": "'time'",
     "output_type": "error",
     "traceback": [
      "\u001b[0;31m---------------------------------------------------------------------------\u001b[0m",
      "\u001b[0;31mKeyError\u001b[0m                                  Traceback (most recent call last)",
      "File \u001b[0;32m~/opt/anaconda3/envs/sliderule/lib/python3.8/site-packages/pandas/core/indexes/base.py:3621\u001b[0m, in \u001b[0;36mIndex.get_loc\u001b[0;34m(self, key, method, tolerance)\u001b[0m\n\u001b[1;32m   3620\u001b[0m \u001b[38;5;28;01mtry\u001b[39;00m:\n\u001b[0;32m-> 3621\u001b[0m     \u001b[38;5;28;01mreturn\u001b[39;00m \u001b[38;5;28;43mself\u001b[39;49m\u001b[38;5;241;43m.\u001b[39;49m\u001b[43m_engine\u001b[49m\u001b[38;5;241;43m.\u001b[39;49m\u001b[43mget_loc\u001b[49m\u001b[43m(\u001b[49m\u001b[43mcasted_key\u001b[49m\u001b[43m)\u001b[49m\n\u001b[1;32m   3622\u001b[0m \u001b[38;5;28;01mexcept\u001b[39;00m \u001b[38;5;167;01mKeyError\u001b[39;00m \u001b[38;5;28;01mas\u001b[39;00m err:\n",
      "File \u001b[0;32m~/opt/anaconda3/envs/sliderule/lib/python3.8/site-packages/pandas/_libs/index.pyx:136\u001b[0m, in \u001b[0;36mpandas._libs.index.IndexEngine.get_loc\u001b[0;34m()\u001b[0m\n",
      "File \u001b[0;32m~/opt/anaconda3/envs/sliderule/lib/python3.8/site-packages/pandas/_libs/index.pyx:163\u001b[0m, in \u001b[0;36mpandas._libs.index.IndexEngine.get_loc\u001b[0;34m()\u001b[0m\n",
      "File \u001b[0;32mpandas/_libs/hashtable_class_helper.pxi:5198\u001b[0m, in \u001b[0;36mpandas._libs.hashtable.PyObjectHashTable.get_item\u001b[0;34m()\u001b[0m\n",
      "File \u001b[0;32mpandas/_libs/hashtable_class_helper.pxi:5206\u001b[0m, in \u001b[0;36mpandas._libs.hashtable.PyObjectHashTable.get_item\u001b[0;34m()\u001b[0m\n",
      "\u001b[0;31mKeyError\u001b[0m: 'time'",
      "\nThe above exception was the direct cause of the following exception:\n",
      "\u001b[0;31mKeyError\u001b[0m                                  Traceback (most recent call last)",
      "Input \u001b[0;32mIn [48]\u001b[0m, in \u001b[0;36m<cell line: 1>\u001b[0;34m()\u001b[0m\n\u001b[0;32m----> 1\u001b[0m \u001b[43matl06_sr\u001b[49m\u001b[43m[\u001b[49m\u001b[38;5;124;43m'\u001b[39;49m\u001b[38;5;124;43mtime\u001b[39;49m\u001b[38;5;124;43m'\u001b[39;49m\u001b[43m]\u001b[49m\n",
      "File \u001b[0;32m~/opt/anaconda3/envs/sliderule/lib/python3.8/site-packages/geopandas/geodataframe.py:1327\u001b[0m, in \u001b[0;36mGeoDataFrame.__getitem__\u001b[0;34m(self, key)\u001b[0m\n\u001b[1;32m   1321\u001b[0m \u001b[38;5;28;01mdef\u001b[39;00m \u001b[38;5;21m__getitem__\u001b[39m(\u001b[38;5;28mself\u001b[39m, key):\n\u001b[1;32m   1322\u001b[0m     \u001b[38;5;124;03m\"\"\"\u001b[39;00m\n\u001b[1;32m   1323\u001b[0m \u001b[38;5;124;03m    If the result is a column containing only 'geometry', return a\u001b[39;00m\n\u001b[1;32m   1324\u001b[0m \u001b[38;5;124;03m    GeoSeries. If it's a DataFrame with a 'geometry' column, return a\u001b[39;00m\n\u001b[1;32m   1325\u001b[0m \u001b[38;5;124;03m    GeoDataFrame.\u001b[39;00m\n\u001b[1;32m   1326\u001b[0m \u001b[38;5;124;03m    \"\"\"\u001b[39;00m\n\u001b[0;32m-> 1327\u001b[0m     result \u001b[38;5;241m=\u001b[39m \u001b[38;5;28;43msuper\u001b[39;49m\u001b[43m(\u001b[49m\u001b[43m)\u001b[49m\u001b[38;5;241;43m.\u001b[39;49m\u001b[38;5;21;43m__getitem__\u001b[39;49m\u001b[43m(\u001b[49m\u001b[43mkey\u001b[49m\u001b[43m)\u001b[49m\n\u001b[1;32m   1328\u001b[0m     geo_col \u001b[38;5;241m=\u001b[39m \u001b[38;5;28mself\u001b[39m\u001b[38;5;241m.\u001b[39m_geometry_column_name\n\u001b[1;32m   1329\u001b[0m     \u001b[38;5;28;01mif\u001b[39;00m \u001b[38;5;28misinstance\u001b[39m(result, Series) \u001b[38;5;129;01mand\u001b[39;00m \u001b[38;5;28misinstance\u001b[39m(result\u001b[38;5;241m.\u001b[39mdtype, GeometryDtype):\n",
      "File \u001b[0;32m~/opt/anaconda3/envs/sliderule/lib/python3.8/site-packages/pandas/core/frame.py:3505\u001b[0m, in \u001b[0;36mDataFrame.__getitem__\u001b[0;34m(self, key)\u001b[0m\n\u001b[1;32m   3503\u001b[0m \u001b[38;5;28;01mif\u001b[39;00m \u001b[38;5;28mself\u001b[39m\u001b[38;5;241m.\u001b[39mcolumns\u001b[38;5;241m.\u001b[39mnlevels \u001b[38;5;241m>\u001b[39m \u001b[38;5;241m1\u001b[39m:\n\u001b[1;32m   3504\u001b[0m     \u001b[38;5;28;01mreturn\u001b[39;00m \u001b[38;5;28mself\u001b[39m\u001b[38;5;241m.\u001b[39m_getitem_multilevel(key)\n\u001b[0;32m-> 3505\u001b[0m indexer \u001b[38;5;241m=\u001b[39m \u001b[38;5;28;43mself\u001b[39;49m\u001b[38;5;241;43m.\u001b[39;49m\u001b[43mcolumns\u001b[49m\u001b[38;5;241;43m.\u001b[39;49m\u001b[43mget_loc\u001b[49m\u001b[43m(\u001b[49m\u001b[43mkey\u001b[49m\u001b[43m)\u001b[49m\n\u001b[1;32m   3506\u001b[0m \u001b[38;5;28;01mif\u001b[39;00m is_integer(indexer):\n\u001b[1;32m   3507\u001b[0m     indexer \u001b[38;5;241m=\u001b[39m [indexer]\n",
      "File \u001b[0;32m~/opt/anaconda3/envs/sliderule/lib/python3.8/site-packages/pandas/core/indexes/base.py:3623\u001b[0m, in \u001b[0;36mIndex.get_loc\u001b[0;34m(self, key, method, tolerance)\u001b[0m\n\u001b[1;32m   3621\u001b[0m     \u001b[38;5;28;01mreturn\u001b[39;00m \u001b[38;5;28mself\u001b[39m\u001b[38;5;241m.\u001b[39m_engine\u001b[38;5;241m.\u001b[39mget_loc(casted_key)\n\u001b[1;32m   3622\u001b[0m \u001b[38;5;28;01mexcept\u001b[39;00m \u001b[38;5;167;01mKeyError\u001b[39;00m \u001b[38;5;28;01mas\u001b[39;00m err:\n\u001b[0;32m-> 3623\u001b[0m     \u001b[38;5;28;01mraise\u001b[39;00m \u001b[38;5;167;01mKeyError\u001b[39;00m(key) \u001b[38;5;28;01mfrom\u001b[39;00m \u001b[38;5;21;01merr\u001b[39;00m\n\u001b[1;32m   3624\u001b[0m \u001b[38;5;28;01mexcept\u001b[39;00m \u001b[38;5;167;01mTypeError\u001b[39;00m:\n\u001b[1;32m   3625\u001b[0m     \u001b[38;5;66;03m# If we have a listlike key, _check_indexing_error will raise\u001b[39;00m\n\u001b[1;32m   3626\u001b[0m     \u001b[38;5;66;03m#  InvalidIndexError. Otherwise we fall through and re-raise\u001b[39;00m\n\u001b[1;32m   3627\u001b[0m     \u001b[38;5;66;03m#  the TypeError.\u001b[39;00m\n\u001b[1;32m   3628\u001b[0m     \u001b[38;5;28mself\u001b[39m\u001b[38;5;241m.\u001b[39m_check_indexing_error(key)\n",
      "\u001b[0;31mKeyError\u001b[0m: 'time'"
     ]
    }
   ],
   "source": [
    "atl06_sr['time']"
   ]
  },
  {
   "cell_type": "code",
   "execution_count": null,
   "id": "e1bd5a58",
   "metadata": {},
   "outputs": [],
   "source": []
  }
 ],
 "metadata": {
  "kernelspec": {
   "display_name": "Python 3 (ipykernel)",
   "language": "python",
   "name": "python3"
  },
  "language_info": {
   "codemirror_mode": {
    "name": "ipython",
    "version": 3
   },
   "file_extension": ".py",
   "mimetype": "text/x-python",
   "name": "python",
   "nbconvert_exporter": "python",
   "pygments_lexer": "ipython3",
   "version": "3.8.13"
  }
 },
 "nbformat": 4,
 "nbformat_minor": 5
}
