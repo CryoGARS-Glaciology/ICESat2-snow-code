{
 "cells": [
  {
   "cell_type": "markdown",
   "id": "adec21b9",
   "metadata": {},
   "source": [
    "## ICESat-2 SlideRule Download\n",
    "\n",
    "This code is adapted from Sliderule Python example code. It is designed to calculate ATL06 elevations from ALT03 points and save those elevations as a CSV. \n",
    "\n",
    "Activate sliderule enviroment to run\n",
    "\n",
    "Last updated by Karina Zikan September 2022"
   ]
  },
  {
   "cell_type": "code",
   "execution_count": 1,
   "id": "2c4a16f4",
   "metadata": {},
   "outputs": [],
   "source": [
    "import sys\n",
    "import logging\n",
    "import concurrent.futures\n",
    "import time\n",
    "from datetime import datetime\n",
    "import pandas as pd\n",
    "import geopandas as gpd\n",
    "import matplotlib.pyplot as plt\n",
    "from pyproj import Transformer, CRS\n",
    "from shapely.geometry import Polygon, Point\n",
    "from sliderule import icesat2\n",
    "from sliderule import sliderule\n",
    "import xarray as xr"
   ]
  },
  {
   "cell_type": "markdown",
   "id": "9af7ad61",
   "metadata": {},
   "source": [
    "## SlideRule Configuration"
   ]
  },
  {
   "cell_type": "code",
   "execution_count": 2,
   "id": "f01cf9d3",
   "metadata": {},
   "outputs": [],
   "source": [
    "# Configure ICESat-2 API\n",
    "icesat2.init(\"icesat2sliderule.org\", False)"
   ]
  },
  {
   "cell_type": "markdown",
   "id": "4da5abf9",
   "metadata": {},
   "source": [
    "## Specify Region of Interest"
   ]
  },
  {
   "cell_type": "markdown",
   "id": "df0dd474",
   "metadata": {},
   "source": [
    "#### 1. Make geojson from shapefile - if you have a geojson of the region skip to 2."
   ]
  },
  {
   "cell_type": "code",
   "execution_count": 6,
   "id": "7be0c803",
   "metadata": {},
   "outputs": [
    {
     "data": {
      "text/plain": [
       "True"
      ]
     },
     "execution_count": 6,
     "metadata": {},
     "output_type": "execute_result"
    }
   ],
   "source": [
    "# Specify region of interest shapefile\n",
    "shp = \"DryCreek/boundDCEW/boundDCEW.shp\"\n",
    "shapefile = gpd.read_file(shp)\n",
    "# shapefile.to_file('DryCreek/boundDCEW/boundDCEW_WGS84.geojson', driver='GeoJSON')\n",
    "shapefile.crs is None"
   ]
  },
  {
   "cell_type": "code",
   "execution_count": 4,
   "id": "8f89519c",
   "metadata": {},
   "outputs": [],
   "source": [
    "## if shapefile.crs is None is false check the crs\n",
    "shapefile.crs"
   ]
  },
  {
   "cell_type": "code",
   "execution_count": 5,
   "id": "ee133c67",
   "metadata": {},
   "outputs": [
    {
     "name": "stderr",
     "output_type": "stream",
     "text": [
      "/Users/karinazikan/opt/anaconda3/envs/sliderule/lib/python3.8/site-packages/geopandas/io/file.py:362: FutureWarning: pandas.Int64Index is deprecated and will be removed from pandas in a future version. Use pandas.Index with the appropriate dtype instead.\n",
      "  pd.Int64Index,\n"
     ]
    }
   ],
   "source": [
    "## if shapefile.crs is None is true run this section\n",
    "crs = 'epsg:8826' # set the starting datum using the epsg code\n",
    "icesat_crs = 4979 # epsg code for WGS84\n",
    "shapefile = shapefile.set_crs(crs)\n",
    "shapefile = shapefile.to_crs(icesat_crs) # transform to WGS84 \n",
    "shapefile.to_file('/Mores/MCSboundary/MoresBound_WGS84.geojson', driver='GeoJSON')"
   ]
  },
  {
   "cell_type": "code",
   "execution_count": null,
   "id": "9f0fd1bc",
   "metadata": {},
   "outputs": [],
   "source": [
    "## if shapefile.crs is not WGS84 run this section\n",
    "icesat_crs = 4979 # epsg code for WGS84\n",
    "shapefile = shapefile.to_crs(icesat_crs) # transform to WGS84 \n",
    "shapefile.to_file('/Mores/MCSboundary/MoresBound_WGS84.geojson', driver='GeoJSON')"
   ]
  },
  {
   "cell_type": "markdown",
   "id": "b245490e",
   "metadata": {},
   "source": [
    "#### 2. Read in geojson for Region of Interest"
   ]
  },
  {
   "cell_type": "code",
   "execution_count": 7,
   "id": "d1897d7a",
   "metadata": {},
   "outputs": [
    {
     "data": {
      "text/plain": [
       "[{'lon': -116.1746943502404, 'lat': 43.686837543426144},\n",
       " {'lon': -116.09786647909404, 'lat': 43.69734469940783},\n",
       " {'lon': -116.0966752516753, 'lat': 43.697593568793344},\n",
       " {'lon': -116.0925562211548, 'lat': 43.69926713165001},\n",
       " {'lon': -116.09203255625805, 'lat': 43.69949714186523},\n",
       " {'lon': -116.089853022847, 'lat': 43.70234739074647},\n",
       " {'lon': -116.08371331771147, 'lat': 43.73349455098816},\n",
       " {'lon': -116.0837304787364, 'lat': 43.7339892883854},\n",
       " {'lon': -116.08378974401451, 'lat': 43.73435870361225},\n",
       " {'lon': -116.08387566039356, 'lat': 43.734894232651506},\n",
       " {'lon': -116.0866868422842, 'lat': 43.74375382066855},\n",
       " {'lon': -116.08739791562141, 'lat': 43.744565913338434},\n",
       " {'lon': -116.09594530889662, 'lat': 43.75142261831437},\n",
       " {'lon': -116.09827216344925, 'lat': 43.75286505183383},\n",
       " {'lon': -116.09895755594343, 'lat': 43.75293496951114},\n",
       " {'lon': -116.1370102494612, 'lat': 43.738766749155694},\n",
       " {'lon': -116.1559211411394, 'lat': 43.72719614818465},\n",
       " {'lon': -116.16144966043333, 'lat': 43.722079574362226},\n",
       " {'lon': -116.17871636315137, 'lat': 43.688228640187276},\n",
       " {'lon': -116.17873861707695, 'lat': 43.68799752739532},\n",
       " {'lon': -116.17722617203928, 'lat': 43.68716581337416},\n",
       " {'lon': -116.17543888675564, 'lat': 43.68693093770513},\n",
       " {'lon': -116.1746943502404, 'lat': 43.686837543426144}]"
      ]
     },
     "execution_count": 7,
     "metadata": {},
     "output_type": "execute_result"
    }
   ],
   "source": [
    "# Specify region of interest from geojson\n",
    "poly_fn = 'DryCreek/boundDCEW/boundDCEW_WGS84_simple.geojson'\n",
    "region = icesat2.toregion(poly_fn)[\"poly\"] # symplify \n",
    "region"
   ]
  },
  {
   "cell_type": "code",
   "execution_count": 8,
   "id": "7e03aa49",
   "metadata": {},
   "outputs": [],
   "source": [
    "# Prepare coordinate lists for plotting the region of interest polygon\n",
    "region_lon = [e[\"lon\"] for e in region]\n",
    "region_lat = [e[\"lat\"] for e in region]"
   ]
  },
  {
   "cell_type": "code",
   "execution_count": 9,
   "id": "b7e4515b",
   "metadata": {},
   "outputs": [
    {
     "data": {
      "image/png": "[encoded data removed]",
      "text/plain": [
       "<Figure size 432x288 with 1 Axes>"
      ]
     },
     "metadata": {
      "needs_background": "light"
     },
     "output_type": "display_data"
    }
   ],
   "source": [
    "# Read geojson with geopandas\n",
    "pregion = gpd.read_file(poly_fn)\n",
    "map = pregion.plot(); # plot origonal boundery \n",
    "map.plot(region_lon, region_lat, linewidth=1, color='g'); # plot symplified region boundery for a sanity check"
   ]
  },
  {
   "cell_type": "markdown",
   "id": "ef0c01fb",
   "metadata": {},
   "source": [
    "#### 3. Save simplified polygon"
   ]
  },
  {
   "cell_type": "code",
   "execution_count": 10,
   "id": "838867a1",
   "metadata": {},
   "outputs": [
    {
     "data": {
      "text/html": [
       "<div>\n",
       "<style scoped>\n",
       "    .dataframe tbody tr th:only-of-type {\n",
       "        vertical-align: middle;\n",
       "    }\n",
       "\n",
       "    .dataframe tbody tr th {\n",
       "        vertical-align: top;\n",
       "    }\n",
       "\n",
       "    .dataframe thead th {\n",
       "        text-align: right;\n",
       "    }\n",
       "</style>\n",
       "<table border=\"1\" class=\"dataframe\">\n",
       "  <thead>\n",
       "    <tr style=\"text-align: right;\">\n",
       "      <th></th>\n",
       "      <th>geometry</th>\n",
       "    </tr>\n",
       "  </thead>\n",
       "  <tbody>\n",
       "    <tr>\n",
       "      <th>0</th>\n",
       "      <td>POLYGON ((-116.17469 43.68684, -116.09787 43.6...</td>\n",
       "    </tr>\n",
       "  </tbody>\n",
       "</table>\n",
       "</div>"
      ],
      "text/plain": [
       "                                            geometry\n",
       "0  POLYGON ((-116.17469 43.68684, -116.09787 43.6..."
      ]
     },
     "execution_count": 10,
     "metadata": {},
     "output_type": "execute_result"
    }
   ],
   "source": [
    "polygon_geom = Polygon(zip(region_lon, region_lat))\n",
    "crs = 'epsg:4979'\n",
    "polygon = gpd.GeoDataFrame(index=[0], geometry=[polygon_geom])       \n",
    "\n",
    "polygon"
   ]
  },
  {
   "cell_type": "code",
   "execution_count": 11,
   "id": "3cb564bd",
   "metadata": {},
   "outputs": [
    {
     "name": "stderr",
     "output_type": "stream",
     "text": [
      "/Users/karinazikan/opt/anaconda3/envs/sliderule/lib/python3.8/site-packages/geopandas/io/file.py:362: FutureWarning: pandas.Int64Index is deprecated and will be removed from pandas in a future version. Use pandas.Index with the appropriate dtype instead.\n",
      "  pd.Int64Index,\n"
     ]
    }
   ],
   "source": [
    "polygon.to_file('DryCreek/boundDCEW/boundDCEW_WGS84_simple.geojson', driver='GeoJSON')"
   ]
  },
  {
   "cell_type": "markdown",
   "id": "50f97261",
   "metadata": {},
   "source": [
    "## Specify parameters for ATL06-SR (Sliderule) processing"
   ]
  },
  {
   "cell_type": "code",
   "execution_count": 12,
   "id": "31c5d508",
   "metadata": {},
   "outputs": [],
   "source": [
    "# Build ATL06 Request #if remove \"atl08_class\", change icesat2.CNF_BACKGROUND to icesat2.CNF_SURFACE_HIGH\n",
    "parms = {\n",
    "    \"poly\": region,\n",
    "    \"srt\": icesat2.SRT_LAND,\n",
    "    \"atl08_class\": \"atl08_ground\",\n",
    "    \"cnf\": icesat2.CNF_BACKGROUND, \n",
    "    \"ats\": 20.0,\n",
    "    \"cnt\": 10,\n",
    "    \"len\": 40.0,\n",
    "    \"res\": 20.0,\n",
    "    \"maxi\": 6\n",
    "}\n",
    "#    \"atl08_class\": \"atl08_ground\",\n",
    "#    \"cnf\": icesat2.CNF_BACKGROUND,\n",
    "\n",
    "#    \"cnf\": icesat2.CNF_SURFACE_HIGH,\n",
    "\n",
    "cvs_name = \"Mores/MC-ICESat2-ATL06sr-atl08class.csv\" #set name of the output"
   ]
  },
  {
   "cell_type": "markdown",
   "id": "358b4437",
   "metadata": {},
   "source": [
    "## Calculate ATL06-SR Elevations from ATL03 Photons using SlideRule"
   ]
  },
  {
   "cell_type": "code",
   "execution_count": 13,
   "id": "aa64d478",
   "metadata": {},
   "outputs": [
    {
     "name": "stdout",
     "output_type": "stream",
     "text": [
      "Completed in 21.644 seconds of wall-clock time\n",
      "Received 2785 elevations\n"
     ]
    }
   ],
   "source": [
    "# Latch Start Time\n",
    "perf_start = time.perf_counter()\n",
    "\n",
    "# Request ATL06 Data\n",
    "atl06_sr = icesat2.atl06p(parms)\n",
    "\n",
    "# Latch Stop Time\n",
    "perf_stop = time.perf_counter()\n",
    "\n",
    "# Display Statistics\n",
    "perf_duration = perf_stop - perf_start\n",
    "print(\"Completed in {:.3f} seconds of wall-clock time\".format(perf_duration))\n",
    "#print(\"Reference Ground Tracks: {}\".format(atl06_sr[\"rgt\"].unique()))\n",
    "#print(\"Cycles: {}\".format(atl06_sr[\"cycle\"].unique()))\n",
    "print(\"Received {} elevations\".format(atl06_sr.shape[0]))"
   ]
  },
  {
   "cell_type": "markdown",
   "id": "c7c141ca",
   "metadata": {},
   "source": [
    "## Plot ATL06-SR Results"
   ]
  },
  {
   "cell_type": "code",
   "execution_count": 14,
   "id": "6800cb28",
   "metadata": {},
   "outputs": [
    {
     "data": {
      "image/png": "[encoded data removed]",
      "text/plain": [
       "<Figure size 432x288 with 1 Axes>"
      ]
     },
     "metadata": {
      "needs_background": "light"
     },
     "output_type": "display_data"
    }
   ],
   "source": [
    "f, ax = plt.subplots()\n",
    "ax.set_title(\"ATL06-SR Points\")\n",
    "ax.set_aspect('equal')\n",
    "atl06_sr.plot(ax=ax, column='h_mean', cmap='inferno', s=0.1)\n",
    "ax.plot(region_lon, region_lat, linewidth=1, color='g');"
   ]
  },
  {
   "cell_type": "code",
   "execution_count": 15,
   "id": "b633ec89",
   "metadata": {},
   "outputs": [
    {
     "data": {
      "text/html": [
       "<div>\n",
       "<style scoped>\n",
       "    .dataframe tbody tr th:only-of-type {\n",
       "        vertical-align: middle;\n",
       "    }\n",
       "\n",
       "    .dataframe tbody tr th {\n",
       "        vertical-align: top;\n",
       "    }\n",
       "\n",
       "    .dataframe thead th {\n",
       "        text-align: right;\n",
       "    }\n",
       "</style>\n",
       "<table border=\"1\" class=\"dataframe\">\n",
       "  <thead>\n",
       "    <tr style=\"text-align: right;\">\n",
       "      <th></th>\n",
       "      <th>pflags</th>\n",
       "      <th>segment_id</th>\n",
       "      <th>rgt</th>\n",
       "      <th>gt</th>\n",
       "      <th>h_sigma</th>\n",
       "      <th>dh_fit_dy</th>\n",
       "      <th>cycle</th>\n",
       "      <th>delta_time</th>\n",
       "      <th>distance</th>\n",
       "      <th>dh_fit_dx</th>\n",
       "      <th>spot</th>\n",
       "      <th>w_surface_window_final</th>\n",
       "      <th>h_mean</th>\n",
       "      <th>n_fit_photons</th>\n",
       "      <th>rms_misfit</th>\n",
       "      <th>geometry</th>\n",
       "      <th>Longitude</th>\n",
       "      <th>Latitude</th>\n",
       "      <th>Easting</th>\n",
       "      <th>Northing</th>\n",
       "    </tr>\n",
       "    <tr>\n",
       "      <th>time</th>\n",
       "      <th></th>\n",
       "      <th></th>\n",
       "      <th></th>\n",
       "      <th></th>\n",
       "      <th></th>\n",
       "      <th></th>\n",
       "      <th></th>\n",
       "      <th></th>\n",
       "      <th></th>\n",
       "      <th></th>\n",
       "      <th></th>\n",
       "      <th></th>\n",
       "      <th></th>\n",
       "      <th></th>\n",
       "      <th></th>\n",
       "      <th></th>\n",
       "      <th></th>\n",
       "      <th></th>\n",
       "      <th></th>\n",
       "      <th></th>\n",
       "    </tr>\n",
       "  </thead>\n",
       "  <tbody>\n",
       "    <tr>\n",
       "      <th>2019-07-24 09:40:48.554452576</th>\n",
       "      <td>0</td>\n",
       "      <td>242461</td>\n",
       "      <td>402</td>\n",
       "      <td>10</td>\n",
       "      <td>0.152396</td>\n",
       "      <td>0.0</td>\n",
       "      <td>4</td>\n",
       "      <td>4.919645e+07</td>\n",
       "      <td>4.862255e+06</td>\n",
       "      <td>0.355833</td>\n",
       "      <td>1</td>\n",
       "      <td>9.094341</td>\n",
       "      <td>1071.726218</td>\n",
       "      <td>20</td>\n",
       "      <td>0.646255</td>\n",
       "      <td>POINT (-116.17674 43.68913)</td>\n",
       "      <td>-116.176743</td>\n",
       "      <td>43.689128</td>\n",
       "      <td>566347.617827</td>\n",
       "      <td>4.837675e+06</td>\n",
       "    </tr>\n",
       "    <tr>\n",
       "      <th>2019-07-24 09:40:48.557318184</th>\n",
       "      <td>0</td>\n",
       "      <td>242462</td>\n",
       "      <td>402</td>\n",
       "      <td>10</td>\n",
       "      <td>0.070577</td>\n",
       "      <td>0.0</td>\n",
       "      <td>4</td>\n",
       "      <td>4.919645e+07</td>\n",
       "      <td>4.862275e+06</td>\n",
       "      <td>0.453471</td>\n",
       "      <td>1</td>\n",
       "      <td>11.579681</td>\n",
       "      <td>1079.943052</td>\n",
       "      <td>31</td>\n",
       "      <td>0.391415</td>\n",
       "      <td>POINT (-116.17677 43.68931)</td>\n",
       "      <td>-116.176770</td>\n",
       "      <td>43.689308</td>\n",
       "      <td>566345.297769</td>\n",
       "      <td>4.837695e+06</td>\n",
       "    </tr>\n",
       "    <tr>\n",
       "      <th>2019-07-24 09:40:48.560191432</th>\n",
       "      <td>0</td>\n",
       "      <td>242463</td>\n",
       "      <td>402</td>\n",
       "      <td>10</td>\n",
       "      <td>0.079518</td>\n",
       "      <td>0.0</td>\n",
       "      <td>4</td>\n",
       "      <td>4.919645e+07</td>\n",
       "      <td>4.862295e+06</td>\n",
       "      <td>0.495349</td>\n",
       "      <td>1</td>\n",
       "      <td>12.646194</td>\n",
       "      <td>1089.555116</td>\n",
       "      <td>31</td>\n",
       "      <td>0.430733</td>\n",
       "      <td>POINT (-116.17680 43.68949)</td>\n",
       "      <td>-116.176796</td>\n",
       "      <td>43.689487</td>\n",
       "      <td>566342.952469</td>\n",
       "      <td>4.837715e+06</td>\n",
       "    </tr>\n",
       "    <tr>\n",
       "      <th>2019-07-24 09:40:48.563066440</th>\n",
       "      <td>0</td>\n",
       "      <td>242464</td>\n",
       "      <td>402</td>\n",
       "      <td>10</td>\n",
       "      <td>0.206113</td>\n",
       "      <td>0.0</td>\n",
       "      <td>4</td>\n",
       "      <td>4.919645e+07</td>\n",
       "      <td>4.862315e+06</td>\n",
       "      <td>0.497777</td>\n",
       "      <td>1</td>\n",
       "      <td>12.708049</td>\n",
       "      <td>1099.465895</td>\n",
       "      <td>15</td>\n",
       "      <td>0.442339</td>\n",
       "      <td>POINT (-116.17682 43.68967)</td>\n",
       "      <td>-116.176823</td>\n",
       "      <td>43.689666</td>\n",
       "      <td>566340.602705</td>\n",
       "      <td>4.837735e+06</td>\n",
       "    </tr>\n",
       "    <tr>\n",
       "      <th>2019-07-24 09:40:48.745667800</th>\n",
       "      <td>0</td>\n",
       "      <td>242540</td>\n",
       "      <td>402</td>\n",
       "      <td>50</td>\n",
       "      <td>0.156539</td>\n",
       "      <td>0.0</td>\n",
       "      <td>4</td>\n",
       "      <td>4.919645e+07</td>\n",
       "      <td>4.863838e+06</td>\n",
       "      <td>0.468357</td>\n",
       "      <td>5</td>\n",
       "      <td>11.958752</td>\n",
       "      <td>1550.361225</td>\n",
       "      <td>11</td>\n",
       "      <td>0.390692</td>\n",
       "      <td>POINT (-116.09948 43.70875)</td>\n",
       "      <td>-116.099483</td>\n",
       "      <td>43.708747</td>\n",
       "      <td>572550.536494</td>\n",
       "      <td>4.839919e+06</td>\n",
       "    </tr>\n",
       "    <tr>\n",
       "      <th>...</th>\n",
       "      <td>...</td>\n",
       "      <td>...</td>\n",
       "      <td>...</td>\n",
       "      <td>...</td>\n",
       "      <td>...</td>\n",
       "      <td>...</td>\n",
       "      <td>...</td>\n",
       "      <td>...</td>\n",
       "      <td>...</td>\n",
       "      <td>...</td>\n",
       "      <td>...</td>\n",
       "      <td>...</td>\n",
       "      <td>...</td>\n",
       "      <td>...</td>\n",
       "      <td>...</td>\n",
       "      <td>...</td>\n",
       "      <td>...</td>\n",
       "      <td>...</td>\n",
       "      <td>...</td>\n",
       "      <td>...</td>\n",
       "    </tr>\n",
       "    <tr>\n",
       "      <th>2022-07-18 05:39:14.549159760</th>\n",
       "      <td>0</td>\n",
       "      <td>242613</td>\n",
       "      <td>402</td>\n",
       "      <td>20</td>\n",
       "      <td>0.189989</td>\n",
       "      <td>0.0</td>\n",
       "      <td>16</td>\n",
       "      <td>1.433580e+08</td>\n",
       "      <td>4.865301e+06</td>\n",
       "      <td>0.141023</td>\n",
       "      <td>5</td>\n",
       "      <td>3.647708</td>\n",
       "      <td>1373.748945</td>\n",
       "      <td>10</td>\n",
       "      <td>0.312745</td>\n",
       "      <td>POINT (-116.15925 43.71787)</td>\n",
       "      <td>-116.159245</td>\n",
       "      <td>43.717875</td>\n",
       "      <td>567725.468542</td>\n",
       "      <td>4.840882e+06</td>\n",
       "    </tr>\n",
       "    <tr>\n",
       "      <th>2022-07-18 05:39:14.560419584</th>\n",
       "      <td>0</td>\n",
       "      <td>242617</td>\n",
       "      <td>402</td>\n",
       "      <td>20</td>\n",
       "      <td>0.223318</td>\n",
       "      <td>0.0</td>\n",
       "      <td>16</td>\n",
       "      <td>1.433580e+08</td>\n",
       "      <td>4.865381e+06</td>\n",
       "      <td>0.271235</td>\n",
       "      <td>5</td>\n",
       "      <td>6.943490</td>\n",
       "      <td>1398.454678</td>\n",
       "      <td>11</td>\n",
       "      <td>0.591311</td>\n",
       "      <td>POINT (-116.15935 43.71859)</td>\n",
       "      <td>-116.159348</td>\n",
       "      <td>43.718592</td>\n",
       "      <td>567716.410200</td>\n",
       "      <td>4.840962e+06</td>\n",
       "    </tr>\n",
       "    <tr>\n",
       "      <th>2022-07-18 05:39:14.563223296</th>\n",
       "      <td>0</td>\n",
       "      <td>242618</td>\n",
       "      <td>402</td>\n",
       "      <td>20</td>\n",
       "      <td>0.159121</td>\n",
       "      <td>0.0</td>\n",
       "      <td>16</td>\n",
       "      <td>1.433580e+08</td>\n",
       "      <td>4.865401e+06</td>\n",
       "      <td>0.162228</td>\n",
       "      <td>5</td>\n",
       "      <td>4.221077</td>\n",
       "      <td>1402.649322</td>\n",
       "      <td>17</td>\n",
       "      <td>0.619228</td>\n",
       "      <td>POINT (-116.15937 43.71877)</td>\n",
       "      <td>-116.159373</td>\n",
       "      <td>43.718772</td>\n",
       "      <td>567714.191747</td>\n",
       "      <td>4.840982e+06</td>\n",
       "    </tr>\n",
       "    <tr>\n",
       "      <th>2022-07-18 05:39:14.577224560</th>\n",
       "      <td>0</td>\n",
       "      <td>242623</td>\n",
       "      <td>402</td>\n",
       "      <td>20</td>\n",
       "      <td>0.062176</td>\n",
       "      <td>0.0</td>\n",
       "      <td>16</td>\n",
       "      <td>1.433580e+08</td>\n",
       "      <td>4.865502e+06</td>\n",
       "      <td>0.076823</td>\n",
       "      <td>5</td>\n",
       "      <td>3.000000</td>\n",
       "      <td>1419.441880</td>\n",
       "      <td>11</td>\n",
       "      <td>0.197593</td>\n",
       "      <td>POINT (-116.15950 43.71967)</td>\n",
       "      <td>-116.159496</td>\n",
       "      <td>43.719669</td>\n",
       "      <td>567703.206598</td>\n",
       "      <td>4.841081e+06</td>\n",
       "    </tr>\n",
       "    <tr>\n",
       "      <th>2022-07-18 05:39:14.585659824</th>\n",
       "      <td>0</td>\n",
       "      <td>242626</td>\n",
       "      <td>402</td>\n",
       "      <td>20</td>\n",
       "      <td>0.401504</td>\n",
       "      <td>0.0</td>\n",
       "      <td>16</td>\n",
       "      <td>1.433580e+08</td>\n",
       "      <td>4.865562e+06</td>\n",
       "      <td>-0.427033</td>\n",
       "      <td>5</td>\n",
       "      <td>14.207755</td>\n",
       "      <td>1407.761597</td>\n",
       "      <td>10</td>\n",
       "      <td>1.268160</td>\n",
       "      <td>POINT (-116.15957 43.72021)</td>\n",
       "      <td>-116.159567</td>\n",
       "      <td>43.720208</td>\n",
       "      <td>567696.953137</td>\n",
       "      <td>4.841141e+06</td>\n",
       "    </tr>\n",
       "  </tbody>\n",
       "</table>\n",
       "<p>2785 rows × 20 columns</p>\n",
       "</div>"
      ],
      "text/plain": [
       "                               pflags  segment_id  rgt  gt   h_sigma  \\\n",
       "time                                                                   \n",
       "2019-07-24 09:40:48.554452576       0      242461  402  10  0.152396   \n",
       "2019-07-24 09:40:48.557318184       0      242462  402  10  0.070577   \n",
       "2019-07-24 09:40:48.560191432       0      242463  402  10  0.079518   \n",
       "2019-07-24 09:40:48.563066440       0      242464  402  10  0.206113   \n",
       "2019-07-24 09:40:48.745667800       0      242540  402  50  0.156539   \n",
       "...                               ...         ...  ...  ..       ...   \n",
       "2022-07-18 05:39:14.549159760       0      242613  402  20  0.189989   \n",
       "2022-07-18 05:39:14.560419584       0      242617  402  20  0.223318   \n",
       "2022-07-18 05:39:14.563223296       0      242618  402  20  0.159121   \n",
       "2022-07-18 05:39:14.577224560       0      242623  402  20  0.062176   \n",
       "2022-07-18 05:39:14.585659824       0      242626  402  20  0.401504   \n",
       "\n",
       "                               dh_fit_dy  cycle    delta_time      distance  \\\n",
       "time                                                                          \n",
       "2019-07-24 09:40:48.554452576        0.0      4  4.919645e+07  4.862255e+06   \n",
       "2019-07-24 09:40:48.557318184        0.0      4  4.919645e+07  4.862275e+06   \n",
       "2019-07-24 09:40:48.560191432        0.0      4  4.919645e+07  4.862295e+06   \n",
       "2019-07-24 09:40:48.563066440        0.0      4  4.919645e+07  4.862315e+06   \n",
       "2019-07-24 09:40:48.745667800        0.0      4  4.919645e+07  4.863838e+06   \n",
       "...                                  ...    ...           ...           ...   \n",
       "2022-07-18 05:39:14.549159760        0.0     16  1.433580e+08  4.865301e+06   \n",
       "2022-07-18 05:39:14.560419584        0.0     16  1.433580e+08  4.865381e+06   \n",
       "2022-07-18 05:39:14.563223296        0.0     16  1.433580e+08  4.865401e+06   \n",
       "2022-07-18 05:39:14.577224560        0.0     16  1.433580e+08  4.865502e+06   \n",
       "2022-07-18 05:39:14.585659824        0.0     16  1.433580e+08  4.865562e+06   \n",
       "\n",
       "                               dh_fit_dx  spot  w_surface_window_final  \\\n",
       "time                                                                     \n",
       "2019-07-24 09:40:48.554452576   0.355833     1                9.094341   \n",
       "2019-07-24 09:40:48.557318184   0.453471     1               11.579681   \n",
       "2019-07-24 09:40:48.560191432   0.495349     1               12.646194   \n",
       "2019-07-24 09:40:48.563066440   0.497777     1               12.708049   \n",
       "2019-07-24 09:40:48.745667800   0.468357     5               11.958752   \n",
       "...                                  ...   ...                     ...   \n",
       "2022-07-18 05:39:14.549159760   0.141023     5                3.647708   \n",
       "2022-07-18 05:39:14.560419584   0.271235     5                6.943490   \n",
       "2022-07-18 05:39:14.563223296   0.162228     5                4.221077   \n",
       "2022-07-18 05:39:14.577224560   0.076823     5                3.000000   \n",
       "2022-07-18 05:39:14.585659824  -0.427033     5               14.207755   \n",
       "\n",
       "                                    h_mean  n_fit_photons  rms_misfit  \\\n",
       "time                                                                    \n",
       "2019-07-24 09:40:48.554452576  1071.726218             20    0.646255   \n",
       "2019-07-24 09:40:48.557318184  1079.943052             31    0.391415   \n",
       "2019-07-24 09:40:48.560191432  1089.555116             31    0.430733   \n",
       "2019-07-24 09:40:48.563066440  1099.465895             15    0.442339   \n",
       "2019-07-24 09:40:48.745667800  1550.361225             11    0.390692   \n",
       "...                                    ...            ...         ...   \n",
       "2022-07-18 05:39:14.549159760  1373.748945             10    0.312745   \n",
       "2022-07-18 05:39:14.560419584  1398.454678             11    0.591311   \n",
       "2022-07-18 05:39:14.563223296  1402.649322             17    0.619228   \n",
       "2022-07-18 05:39:14.577224560  1419.441880             11    0.197593   \n",
       "2022-07-18 05:39:14.585659824  1407.761597             10    1.268160   \n",
       "\n",
       "                                                  geometry   Longitude  \\\n",
       "time                                                                     \n",
       "2019-07-24 09:40:48.554452576  POINT (-116.17674 43.68913) -116.176743   \n",
       "2019-07-24 09:40:48.557318184  POINT (-116.17677 43.68931) -116.176770   \n",
       "2019-07-24 09:40:48.560191432  POINT (-116.17680 43.68949) -116.176796   \n",
       "2019-07-24 09:40:48.563066440  POINT (-116.17682 43.68967) -116.176823   \n",
       "2019-07-24 09:40:48.745667800  POINT (-116.09948 43.70875) -116.099483   \n",
       "...                                                    ...         ...   \n",
       "2022-07-18 05:39:14.549159760  POINT (-116.15925 43.71787) -116.159245   \n",
       "2022-07-18 05:39:14.560419584  POINT (-116.15935 43.71859) -116.159348   \n",
       "2022-07-18 05:39:14.563223296  POINT (-116.15937 43.71877) -116.159373   \n",
       "2022-07-18 05:39:14.577224560  POINT (-116.15950 43.71967) -116.159496   \n",
       "2022-07-18 05:39:14.585659824  POINT (-116.15957 43.72021) -116.159567   \n",
       "\n",
       "                                Latitude        Easting      Northing  \n",
       "time                                                                   \n",
       "2019-07-24 09:40:48.554452576  43.689128  566347.617827  4.837675e+06  \n",
       "2019-07-24 09:40:48.557318184  43.689308  566345.297769  4.837695e+06  \n",
       "2019-07-24 09:40:48.560191432  43.689487  566342.952469  4.837715e+06  \n",
       "2019-07-24 09:40:48.563066440  43.689666  566340.602705  4.837735e+06  \n",
       "2019-07-24 09:40:48.745667800  43.708747  572550.536494  4.839919e+06  \n",
       "...                                  ...            ...           ...  \n",
       "2022-07-18 05:39:14.549159760  43.717875  567725.468542  4.840882e+06  \n",
       "2022-07-18 05:39:14.560419584  43.718592  567716.410200  4.840962e+06  \n",
       "2022-07-18 05:39:14.563223296  43.718772  567714.191747  4.840982e+06  \n",
       "2022-07-18 05:39:14.577224560  43.719669  567703.206598  4.841081e+06  \n",
       "2022-07-18 05:39:14.585659824  43.720208  567696.953137  4.841141e+06  \n",
       "\n",
       "[2785 rows x 20 columns]"
      ]
     },
     "execution_count": 15,
     "metadata": {},
     "output_type": "execute_result"
    }
   ],
   "source": [
    "#Set utmzone code - utm zone 11:32611\n",
    "utm_code = 'epsg:32611'\n",
    "\n",
    "atl06_sr['Longitude'] = atl06_sr['geometry'].x\n",
    "atl06_sr['Latitude'] = atl06_sr['geometry'].y\n",
    "eastnorths = atl06_sr['geometry'].to_crs(utm_code)\n",
    "atl06_sr['Easting'] = eastnorths.x\n",
    "atl06_sr['Northing'] = eastnorths.y\n",
    "atl06_sr"
   ]
  },
  {
   "cell_type": "markdown",
   "id": "1a407769",
   "metadata": {},
   "source": [
    "## Write CSV"
   ]
  },
  {
   "cell_type": "code",
   "execution_count": null,
   "id": "729f0e80",
   "metadata": {},
   "outputs": [],
   "source": [
    "atl06_sr.to_csv(cvs_name)"
   ]
  }
 ],
 "metadata": {
  "kernelspec": {
   "display_name": "Python 3 (ipykernel)",
   "language": "python",
   "name": "python3"
  },
  "language_info": {
   "codemirror_mode": {
    "name": "ipython",
    "version": 3
   },
   "file_extension": ".py",
   "mimetype": "text/x-python",
   "name": "python",
   "nbconvert_exporter": "python",
   "pygments_lexer": "ipython3",
   "version": "3.8.13"
  }
 },
 "nbformat": 4,
 "nbformat_minor": 5
}
