{
 "cells": [
  {
   "cell_type": "markdown",
   "id": "adec21b9",
   "metadata": {},
   "source": [
    "## ICESat-2 SlideRule Download\n",
    "\n",
    "This code is adapted from Sliderule Python example code. It is designed to calculate ATL06 elevations from ALT03 points and save those elevations as a CSV. \n",
    "\n",
    "Activate sliderule enviroment to run\n",
    "\n",
    "Last updated by Karina Zikan July 2022"
   ]
  },
  {
   "cell_type": "code",
   "execution_count": 1,
   "id": "2c4a16f4",
   "metadata": {},
   "outputs": [],
   "source": [
    "import sys\n",
    "import logging\n",
    "import concurrent.futures\n",
    "import time\n",
    "from datetime import datetime\n",
    "import pandas as pd\n",
    "import geopandas as gpd\n",
    "import matplotlib.pyplot as plt\n",
    "from pyproj import Transformer, CRS\n",
    "from shapely.geometry import Polygon, Point\n",
    "from sliderule import icesat2\n",
    "from sliderule import sliderule"
   ]
  },
  {
   "cell_type": "markdown",
   "id": "9af7ad61",
   "metadata": {},
   "source": [
    "## SlideRule Configuration"
   ]
  },
  {
   "cell_type": "code",
   "execution_count": 2,
   "id": "f01cf9d3",
   "metadata": {},
   "outputs": [],
   "source": [
    "# Configure ICESat-2 API\n",
    "icesat2.init(\"icesat2sliderule.org\", False)"
   ]
  },
  {
   "cell_type": "markdown",
   "id": "4da5abf9",
   "metadata": {},
   "source": [
    "## Specify Region of Interest"
   ]
  },
  {
   "cell_type": "markdown",
   "id": "df0dd474",
   "metadata": {},
   "source": [
    "#### 1. Make geojson from shapefile - if you have a geojson of the region skip to 2."
   ]
  },
  {
   "cell_type": "code",
   "execution_count": 3,
   "id": "7be0c803",
   "metadata": {},
   "outputs": [
    {
     "name": "stderr",
     "output_type": "stream",
     "text": [
      "/Users/karinazikan/opt/anaconda3/envs/sliderule/lib/python3.8/site-packages/geopandas/io/file.py:362: FutureWarning: pandas.Int64Index is deprecated and will be removed from pandas in a future version. Use pandas.Index with the appropriate dtype instead.\n",
      "  pd.Int64Index,\n"
     ]
    },
    {
     "data": {
      "text/plain": [
       "True"
      ]
     },
     "execution_count": 3,
     "metadata": {},
     "output_type": "execute_result"
    }
   ],
   "source": [
    "# Specify region of interest shapefile\n",
    "shp = \"DryCreek/boundDCEW/boundDCEW.shp\"\n",
    "shapefile = gpd.read_file(shp)\n",
    "shapefile.to_file('DryCreek/boundDCEW/boundDCEW_WGS84.geojson', driver='GeoJSON')\n",
    "shapefile.crs is None"
   ]
  },
  {
   "cell_type": "code",
   "execution_count": 6,
   "id": "8f89519c",
   "metadata": {},
   "outputs": [
    {
     "data": {
      "text/plain": [
       "<Geographic 3D CRS: EPSG:4979>\n",
       "Name: WGS 84\n",
       "Axis Info [ellipsoidal]:\n",
       "- Lat[north]: Geodetic latitude (degree)\n",
       "- Lon[east]: Geodetic longitude (degree)\n",
       "- h[up]: Ellipsoidal height (metre)\n",
       "Area of Use:\n",
       "- name: World: Afghanistan, Albania, Algeria, American Samoa, Andorra, Angola, Anguilla, Antarctica, Antigua and Barbuda, Argentina, Armenia, Aruba, Australia, Austria, Azerbaijan, Bahamas, Bahrain, Bangladesh, Barbados, Belgium, Belgium, Belize, Benin, Bermuda, Bhutan, Bolivia, Bonaire, Saint Eustasius and Saba, Bosnia and Herzegovina, Botswana, Bouvet Island, Brazil, British Indian Ocean Territory, British Virgin Islands, Brunei Darussalam, Bulgaria, Burkina Faso, Burundi, Cambodia, Cameroon, Canada, Cape Verde, Cayman Islands, Central African Republic, Chad, Chile, China, Christmas Island, Cocos (Keeling) Islands, Comoros, Congo, Cook Islands, Costa Rica, Côte d'Ivoire (Ivory Coast), Croatia, Cuba, Curacao, Cyprus, Czechia, Denmark, Djibouti, Dominica, Dominican Republic, East Timor, Ecuador, Egypt, El Salvador, Equatorial Guinea, Eritrea, Estonia, Eswatini (Swaziland), Ethiopia, Falkland Islands (Malvinas), Faroe Islands, Fiji, Finland, France, French Guiana, French Polynesia, French Southern Territories, Gabon, Gambia, Georgia, Germany, Ghana, Gibraltar, Greece, Greenland, Grenada, Guadeloupe, Guam, Guatemala, Guinea, Guinea-Bissau, Guyana, Haiti, Heard Island and McDonald Islands, Holy See (Vatican City State), Honduras, China - Hong Kong, Hungary, Iceland, India, Indonesia, Islamic Republic of Iran, Iraq, Ireland, Israel, Italy, Jamaica, Japan, Jordan, Kazakhstan, Kenya, Kiribati, Democratic People's Republic of Korea (North Korea), Republic of Korea (South Korea), Kosovo, Kuwait, Kyrgyzstan, Lao People's Democratic Republic (Laos), Latvia, Lebanon, Lesotho, Liberia, Libyan Arab Jamahiriya, Liechtenstein, Lithuania, Luxembourg, China - Macao, Madagascar, Malawi, Malaysia, Maldives, Mali, Malta, Marshall Islands, Martinique, Mauritania, Mauritius, Mayotte, Mexico, Federated States of Micronesia, Monaco, Mongolia, Montenegro, Montserrat, Morocco, Mozambique, Myanmar (Burma), Namibia, Nauru, Nepal, Netherlands, New Caledonia, New Zealand, Nicaragua, Niger, Nigeria, Niue, Norfolk Island, North Macedonia, Northern Mariana Islands, Norway, Oman, Pakistan, Palau, Panama, Papua New Guinea (PNG), Paraguay, Peru, Philippines, Pitcairn, Poland, Portugal, Puerto Rico, Qatar, Reunion, Romania, Russian Federation, Rwanda, St Barthelemy, St Kitts and Nevis, St Helena, Ascension and Tristan da Cunha, St Lucia, St Martin, St Pierre and Miquelon, Saint Vincent and the Grenadines, Samoa, San Marino, Sao Tome and Principe, Saudi Arabia, Senegal, Serbia, Seychelles, Sierra Leone, Singapore, Slovakia (Slovak Republic), Slovenia, St Maarten, Solomon Islands, Somalia, South Africa, South Georgia and the South Sandwich Islands, South Sudan, Spain, Sri Lanka, Sudan, Suriname, Svalbard and Jan Mayen, Sweden, Switzerland, Syrian Arab Republic, Taiwan, Tajikistan, United Republic of Tanzania, Thailand, The Democratic Republic of the Congo (Zaire), Togo, Tokelau, Tonga, Trinidad and Tobago, Tunisia, Turkey, Turkmenistan, Turks and Caicos Islands, Tuvalu, Uganda, Ukraine, United Arab Emirates (UAE), United Kingdom (UK), United States (USA), United States Minor Outlying Islands, Uruguay, Uzbekistan, Vanuatu, Venezuela, Vietnam, US Virgin Islands, Wallis and Futuna, Western Sahara, Yemen, Zambia, Zimbabwe.\n",
       "- bounds: (-180.0, -90.0, 180.0, 90.0)\n",
       "Datum: World Geodetic System 1984 ensemble\n",
       "- Ellipsoid: WGS 84\n",
       "- Prime Meridian: Greenwich"
      ]
     },
     "execution_count": 6,
     "metadata": {},
     "output_type": "execute_result"
    }
   ],
   "source": [
    "## if shapefile.crs is None is false check the crs\n",
    "shapefile.crs"
   ]
  },
  {
   "cell_type": "code",
   "execution_count": 5,
   "id": "ee133c67",
   "metadata": {},
   "outputs": [
    {
     "name": "stderr",
     "output_type": "stream",
     "text": [
      "/Users/karinazikan/opt/anaconda3/envs/sliderule/lib/python3.8/site-packages/geopandas/io/file.py:362: FutureWarning: pandas.Int64Index is deprecated and will be removed from pandas in a future version. Use pandas.Index with the appropriate dtype instead.\n",
      "  pd.Int64Index,\n"
     ]
    }
   ],
   "source": [
    "## if shapefile.crs is None is true run this section\n",
    "crs = 'epsg:8826' # set the starting datum using the epsg code\n",
    "icesat_crs = 4979 # epsg code for WGS84\n",
    "shapefile = shapefile.set_crs(crs)\n",
    "shapefile = shapefile.to_crs(icesat_crs) # transform to WGS84 \n",
    "shapefile.to_file('DryCreek/boundDCEW/boundDCEW_WGS84.geojson', driver='GeoJSON')"
   ]
  },
  {
   "cell_type": "code",
   "execution_count": null,
   "id": "9f0fd1bc",
   "metadata": {},
   "outputs": [],
   "source": [
    "## if shapefile.crs is not WGS84 run this section\n",
    "icesat_crs = 4979 # epsg code for WGS84\n",
    "shapefile = shapefile.to_crs(icesat_crs) # transform to WGS84 \n",
    "shapefile.to_file('DryCreek/boundDCEW/boundDCEW_WGS84.geojson', driver='GeoJSON')"
   ]
  },
  {
   "cell_type": "markdown",
   "id": "b245490e",
   "metadata": {},
   "source": [
    "#### 2. Read in geojson for Region of Interest"
   ]
  },
  {
   "cell_type": "code",
   "execution_count": 7,
   "id": "d1897d7a",
   "metadata": {},
   "outputs": [
    {
     "data": {
      "text/plain": [
       "[{'lon': -116.1746943502404, 'lat': 43.686837543426144},\n",
       " {'lon': -116.09786647909404, 'lat': 43.69734469940783},\n",
       " {'lon': -116.0966752516753, 'lat': 43.697593568793344},\n",
       " {'lon': -116.0925562211548, 'lat': 43.69926713165001},\n",
       " {'lon': -116.09203255625805, 'lat': 43.69949714186523},\n",
       " {'lon': -116.089853022847, 'lat': 43.70234739074647},\n",
       " {'lon': -116.08371331771147, 'lat': 43.73349455098816},\n",
       " {'lon': -116.0837304787364, 'lat': 43.7339892883854},\n",
       " {'lon': -116.08378974401451, 'lat': 43.73435870361225},\n",
       " {'lon': -116.08387566039356, 'lat': 43.734894232651506},\n",
       " {'lon': -116.0866868422842, 'lat': 43.74375382066855},\n",
       " {'lon': -116.08739791562141, 'lat': 43.744565913338434},\n",
       " {'lon': -116.09594530889662, 'lat': 43.75142261831437},\n",
       " {'lon': -116.09827216344925, 'lat': 43.75286505183383},\n",
       " {'lon': -116.09895755594343, 'lat': 43.75293496951114},\n",
       " {'lon': -116.1370102494612, 'lat': 43.738766749155694},\n",
       " {'lon': -116.1559211411394, 'lat': 43.72719614818465},\n",
       " {'lon': -116.16144966043333, 'lat': 43.722079574362226},\n",
       " {'lon': -116.17871636315137, 'lat': 43.688228640187276},\n",
       " {'lon': -116.17873861707695, 'lat': 43.68799752739532},\n",
       " {'lon': -116.17722617203928, 'lat': 43.68716581337416},\n",
       " {'lon': -116.17543888675564, 'lat': 43.68693093770513},\n",
       " {'lon': -116.1746943502404, 'lat': 43.686837543426144}]"
      ]
     },
     "execution_count": 7,
     "metadata": {},
     "output_type": "execute_result"
    }
   ],
   "source": [
    "# Specify region of interest from geojson\n",
    "poly_fn = 'DryCreek/boundDCEW/boundDCEW_WGS84.geojson'\n",
    "region = icesat2.toregion(poly_fn)[\"poly\"] # symplify \n",
    "region"
   ]
  },
  {
   "cell_type": "code",
   "execution_count": 8,
   "id": "7e03aa49",
   "metadata": {},
   "outputs": [],
   "source": [
    "# Prepare coordinate lists for plotting the region of interest polygon\n",
    "region_lon = [e[\"lon\"] for e in region]\n",
    "region_lat = [e[\"lat\"] for e in region]"
   ]
  },
  {
   "cell_type": "code",
   "execution_count": 9,
   "id": "b7e4515b",
   "metadata": {},
   "outputs": [
    {
     "data": {
      "image/png": "[encoded data removed]",
      "text/plain": [
       "<Figure size 432x288 with 1 Axes>"
      ]
     },
     "metadata": {
      "needs_background": "light"
     },
     "output_type": "display_data"
    }
   ],
   "source": [
    "# Read geojson with geopandas\n",
    "pregion = gpd.read_file(poly_fn)\n",
    "map = pregion.plot(); # plot origonal boundery \n",
    "map.plot(region_lon, region_lat, linewidth=1, color='g'); # plot symplified region boundery for a sanity check"
   ]
  },
  {
   "cell_type": "markdown",
   "id": "50f97261",
   "metadata": {},
   "source": [
    "## Specify parameters for ATL06-SR (Sliderule) processing"
   ]
  },
  {
   "cell_type": "code",
   "execution_count": 12,
   "id": "31c5d508",
   "metadata": {},
   "outputs": [],
   "source": [
    "# Build ATL06 Request #if remove \"atl08_class\", change icesat2.CNF_BACKGROUND to CNF_SURFACE_HIGH\n",
    "parms = {\n",
    "    \"poly\": region,\n",
    "    \"srt\": icesat2.SRT_LAND,\n",
    "\n",
    "    \"cnf\": icesat2.CNF_SURFACE_HIGH, \n",
    "    \"ats\": 20.0,\n",
    "    \"cnt\": 10,\n",
    "    \"len\": 40.0,\n",
    "    \"res\": 20.0,\n",
    "    \"maxi\": 6\n",
    "}\n",
    "#     \"atl08_class\": \"atl08_ground\","
   ]
  },
  {
   "cell_type": "markdown",
   "id": "358b4437",
   "metadata": {},
   "source": [
    "## Calculate ATL06-SR Elevations from ATL03 Photons using SlideRule"
   ]
  },
  {
   "cell_type": "code",
   "execution_count": 13,
   "id": "aa64d478",
   "metadata": {},
   "outputs": [
    {
     "name": "stdout",
     "output_type": "stream",
     "text": [
      "Completed in 15.625 seconds of wall-clock time\n",
      "Received 4478 elevations\n"
     ]
    }
   ],
   "source": [
    "# Latch Start Time\n",
    "perf_start = time.perf_counter()\n",
    "\n",
    "# Request ATL06 Data\n",
    "atl06_sr = icesat2.atl06p(parms)\n",
    "\n",
    "# Latch Stop Time\n",
    "perf_stop = time.perf_counter()\n",
    "\n",
    "# Display Statistics\n",
    "perf_duration = perf_stop - perf_start\n",
    "print(\"Completed in {:.3f} seconds of wall-clock time\".format(perf_duration))\n",
    "#print(\"Reference Ground Tracks: {}\".format(atl06_sr[\"rgt\"].unique()))\n",
    "#print(\"Cycles: {}\".format(atl06_sr[\"cycle\"].unique()))\n",
    "print(\"Received {} elevations\".format(atl06_sr.shape[0]))"
   ]
  },
  {
   "cell_type": "markdown",
   "id": "c7c141ca",
   "metadata": {},
   "source": [
    "## Plot ATL06-SR Results"
   ]
  },
  {
   "cell_type": "code",
   "execution_count": 14,
   "id": "6800cb28",
   "metadata": {},
   "outputs": [
    {
     "data": {
      "image/png": "[encoded data removed]",
      "text/plain": [
       "<Figure size 432x288 with 1 Axes>"
      ]
     },
     "metadata": {
      "needs_background": "light"
     },
     "output_type": "display_data"
    }
   ],
   "source": [
    "f, ax = plt.subplots()\n",
    "ax.set_title(\"ATL06-SR Points\")\n",
    "ax.set_aspect('equal')\n",
    "atl06_sr.plot(ax=ax, column='h_mean', cmap='inferno', s=0.1)\n",
    "ax.plot(region_lon, region_lat, linewidth=1, color='g');"
   ]
  },
  {
   "cell_type": "code",
   "execution_count": null,
   "id": "b633ec89",
   "metadata": {},
   "outputs": [],
   "source": [
    "#Set utmzone code - utm zone 11:32611\n",
    "utm_code = 'epsg:32611'\n",
    "\n",
    "atl06_sr['Longitude'] = atl06_sr['geometry'].x\n",
    "atl06_sr['Latitude'] = atl06_sr['geometry'].y\n",
    "eastnorths = atl06_sr['geometry'].to_crs(utm_code)\n",
    "atl06_sr['Easting'] = eastnorths.x\n",
    "atl06_sr['Northing'] = eastnorths.y\n",
    "atl06_sr"
   ]
  },
  {
   "cell_type": "markdown",
   "id": "1a407769",
   "metadata": {},
   "source": [
    "## Write CSV"
   ]
  },
  {
   "cell_type": "code",
   "execution_count": null,
   "id": "729f0e80",
   "metadata": {},
   "outputs": [],
   "source": [
    "atl06_sr.to_csv(\"RCEW/RCEW-ICESat2-ATL06sr-atl08class.csv\")"
   ]
  },
  {
   "cell_type": "code",
   "execution_count": null,
   "id": "ed3413d4",
   "metadata": {},
   "outputs": [],
   "source": [
    "atl06_sr['time']"
   ]
  },
  {
   "cell_type": "code",
   "execution_count": null,
   "id": "e1bd5a58",
   "metadata": {},
   "outputs": [],
   "source": []
  }
 ],
 "metadata": {
  "kernelspec": {
   "display_name": "Python 3 (ipykernel)",
   "language": "python",
   "name": "python3"
  },
  "language_info": {
   "codemirror_mode": {
    "name": "ipython",
    "version": 3
   },
   "file_extension": ".py",
   "mimetype": "text/x-python",
   "name": "python",
   "nbconvert_exporter": "python",
   "pygments_lexer": "ipython3",
   "version": "3.8.13"
  }
 },
 "nbformat": 4,
 "nbformat_minor": 5
}
