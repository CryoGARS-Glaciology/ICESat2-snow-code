{
 "cells": [
  {
   "cell_type": "markdown",
   "id": "adec21b9",
   "metadata": {},
   "source": [
    "## ICESat-2 SlideRule Download\n",
    "\n",
    "This code is adapted from Sliderule Python example code. It is designed to calculate ATL06 elevations from ALT03 points and save those elevations as a CSV. \n",
    "\n",
    "Activate sliderule enviroment to run"
   ]
  },
  {
   "cell_type": "code",
   "execution_count": 1,
   "id": "2c4a16f4",
   "metadata": {},
   "outputs": [],
   "source": [
    "import sys\n",
    "import logging\n",
    "import concurrent.futures\n",
    "import time\n",
    "from datetime import datetime\n",
    "import pandas as pd\n",
    "import geopandas as gpd\n",
    "import matplotlib.pyplot as plt\n",
    "from pyproj import Transformer, CRS\n",
    "from shapely.geometry import Polygon, Point\n",
    "from sliderule import icesat2\n",
    "from sliderule import sliderule"
   ]
  },
  {
   "cell_type": "markdown",
   "id": "9af7ad61",
   "metadata": {},
   "source": [
    "## SlideRule Configuration"
   ]
  },
  {
   "cell_type": "code",
   "execution_count": 2,
   "id": "f01cf9d3",
   "metadata": {},
   "outputs": [],
   "source": [
    "# Configure ICESat-2 API\n",
    "icesat2.init(\"icesat2sliderule.org\", False)"
   ]
  },
  {
   "cell_type": "markdown",
   "id": "4da5abf9",
   "metadata": {},
   "source": [
    "## Specify Region of Interest"
   ]
  },
  {
   "cell_type": "markdown",
   "id": "df0dd474",
   "metadata": {},
   "source": [
    "#### 1. Make geojson from shapefile - if you have a geojson of the region skip to 2."
   ]
  },
  {
   "cell_type": "code",
   "execution_count": null,
   "id": "7be0c803",
   "metadata": {},
   "outputs": [],
   "source": [
    "# Specify region of interest shapefile\n",
    "shp = \"DryCreek/boundDCEW/boundDCEW.shp\"\n",
    "shapefile = gpd.read_file(shp)\n",
    "shapefile.to_file('DryCreek/boundDCEW/boundDCEW.geojson', driver='GeoJSON')\n",
    "shapefile.crs is None"
   ]
  },
  {
   "cell_type": "code",
   "execution_count": null,
   "id": "8f89519c",
   "metadata": {},
   "outputs": [],
   "source": [
    "## if shapefile.crs is None is false check the crs\n",
    "shapefile.crs"
   ]
  },
  {
   "cell_type": "code",
   "execution_count": null,
   "id": "ee133c67",
   "metadata": {},
   "outputs": [],
   "source": [
    "## if shapefile.crs is None is true run this section\n",
    "crs = 'epsg:8826' # set the starting datum using the epsg code\n",
    "icesat_crs = 4979 # epsg code for WGS84\n",
    "shapefile = shapefile.set_crs(crs)\n",
    "shapefile = shapefile.to_crs(icesat_crs) # transform to WGS84 \n",
    "shapefile.to_file('DryCreek/boundDCEW/boundDCEW_WGS84.geojson', driver='GeoJSON')"
   ]
  },
  {
   "cell_type": "code",
   "execution_count": null,
   "id": "9f0fd1bc",
   "metadata": {},
   "outputs": [],
   "source": [
    "## if shapefile.crs is not WGS84 run this section\n",
    "icesat_crs = 4979 # epsg code for WGS84\n",
    "shapefile = shapefile.to_crs(icesat_crs) # transform to WGS84 \n",
    "shapefile.to_file('DryCreek/boundDCEW/boundDCEW_WGS84.geojson', driver='GeoJSON')"
   ]
  },
  {
   "cell_type": "markdown",
   "id": "b245490e",
   "metadata": {},
   "source": [
    "#### 2. Read in geojson for Region of Interest"
   ]
  },
  {
   "cell_type": "code",
   "execution_count": 3,
   "id": "d1897d7a",
   "metadata": {},
   "outputs": [
    {
     "data": {
      "text/plain": [
       "[{'lon': -116.1746943502404, 'lat': 43.686837543426144},\n",
       " {'lon': -116.09786647909404, 'lat': 43.69734469940783},\n",
       " {'lon': -116.0966752516753, 'lat': 43.697593568793344},\n",
       " {'lon': -116.0925562211548, 'lat': 43.69926713165001},\n",
       " {'lon': -116.09203255625805, 'lat': 43.69949714186523},\n",
       " {'lon': -116.089853022847, 'lat': 43.70234739074647},\n",
       " {'lon': -116.08371331771147, 'lat': 43.73349455098816},\n",
       " {'lon': -116.0837304787364, 'lat': 43.7339892883854},\n",
       " {'lon': -116.08378974401451, 'lat': 43.73435870361225},\n",
       " {'lon': -116.08387566039356, 'lat': 43.734894232651506},\n",
       " {'lon': -116.0866868422842, 'lat': 43.74375382066855},\n",
       " {'lon': -116.08739791562141, 'lat': 43.744565913338434},\n",
       " {'lon': -116.09594530889662, 'lat': 43.75142261831437},\n",
       " {'lon': -116.09827216344925, 'lat': 43.75286505183383},\n",
       " {'lon': -116.09895755594343, 'lat': 43.75293496951114},\n",
       " {'lon': -116.1370102494612, 'lat': 43.738766749155694},\n",
       " {'lon': -116.1559211411394, 'lat': 43.72719614818465},\n",
       " {'lon': -116.16144966043333, 'lat': 43.722079574362226},\n",
       " {'lon': -116.17871636315137, 'lat': 43.688228640187276},\n",
       " {'lon': -116.17873861707695, 'lat': 43.68799752739532},\n",
       " {'lon': -116.17722617203928, 'lat': 43.68716581337416},\n",
       " {'lon': -116.17543888675564, 'lat': 43.68693093770513},\n",
       " {'lon': -116.1746943502404, 'lat': 43.686837543426144}]"
      ]
     },
     "execution_count": 3,
     "metadata": {},
     "output_type": "execute_result"
    }
   ],
   "source": [
    "# Specify region of interest from geojson\n",
    "poly_fn = 'DryCreek/boundDCEW/boundDCEW_WGS84.geojson'\n",
    "region = icesat2.toregion(poly_fn)[\"poly\"] # symplify \n",
    "region"
   ]
  },
  {
   "cell_type": "code",
   "execution_count": 4,
   "id": "7e03aa49",
   "metadata": {},
   "outputs": [],
   "source": [
    "# Prepare coordinate lists for plotting the region of interest polygon\n",
    "region_lon = [e[\"lon\"] for e in region]\n",
    "region_lat = [e[\"lat\"] for e in region]"
   ]
  },
  {
   "cell_type": "code",
   "execution_count": 5,
   "id": "b7e4515b",
   "metadata": {},
   "outputs": [
    {
     "data": {
      "image/png": "[encoded data removed]",
      "text/plain": [
       "<Figure size 432x288 with 1 Axes>"
      ]
     },
     "metadata": {
      "needs_background": "light"
     },
     "output_type": "display_data"
    }
   ],
   "source": [
    "# Read geojson with geopandas\n",
    "pregion = gpd.read_file(poly_fn)\n",
    "map = pregion.plot(); # plot origonal boundery \n",
    "map.plot(region_lon, region_lat, linewidth=1, color='g'); # plot symplified region boundery for a sanity check"
   ]
  },
  {
   "cell_type": "markdown",
   "id": "50f97261",
   "metadata": {},
   "source": [
    "## Specify parameters for ATL06-SR (Sliderule) processing"
   ]
  },
  {
   "cell_type": "code",
   "execution_count": 6,
   "id": "31c5d508",
   "metadata": {},
   "outputs": [],
   "source": [
    "# Build ATL06 Request #if remove \"atl08_class\", change icesat2.CNF_BACKGROUND to CNF_SURFACE_HIGH\n",
    "parms = {\n",
    "    \"poly\": region,\n",
    "    \"srt\": icesat2.SRT_LAND,\n",
    "    \"atl08_class\": \"atl08_ground\",\n",
    "    \"cnf\": icesat2.CNF_BACKGROUND, \n",
    "    \"ats\": 20.0,\n",
    "    \"cnt\": 10,\n",
    "    \"len\": 40.0,\n",
    "    \"res\": 20.0,\n",
    "    \"maxi\": 6\n",
    "}"
   ]
  },
  {
   "cell_type": "markdown",
   "id": "358b4437",
   "metadata": {},
   "source": [
    "## Calculate ATL06-SR Elevations from ATL03 Photons using SlideRule"
   ]
  },
  {
   "cell_type": "code",
   "execution_count": 7,
   "id": "aa64d478",
   "metadata": {},
   "outputs": [
    {
     "name": "stderr",
     "output_type": "stream",
     "text": [
      "CRITICAL:sliderule.sliderule:http://34.212.131.26 encountered consecutive error 1\n",
      "CRITICAL:sliderule.sliderule:http://34.212.131.26 encountered consecutive error 2\n",
      "CRITICAL:sliderule.sliderule:http://54.213.230.113 encountered consecutive error 1\n",
      "CRITICAL:sliderule.sliderule:http://34.212.131.26 encountered consecutive error 3\n",
      "CRITICAL:sliderule.sliderule:http://54.213.230.113 encountered consecutive error 2\n",
      "CRITICAL:sliderule.sliderule:http://54.213.230.113 encountered consecutive error 3\n",
      "CRITICAL:sliderule.sliderule:http://54.184.138.4 encountered consecutive error 1\n",
      "CRITICAL:sliderule.sliderule:http://34.212.131.26 encountered consecutive error 1\n",
      "CRITICAL:sliderule.sliderule:http://54.213.230.113 encountered consecutive error 1\n",
      "CRITICAL:sliderule.sliderule:http://54.184.138.4 encountered consecutive error 2\n",
      "CRITICAL:sliderule.sliderule:http://34.212.131.26 encountered consecutive error 2\n",
      "CRITICAL:sliderule.sliderule:http://54.213.230.113 encountered consecutive error 2\n",
      "CRITICAL:sliderule.sliderule:http://54.184.138.4 encountered consecutive error 3\n",
      "CRITICAL:sliderule.sliderule:http://34.212.131.26 encountered consecutive error 3\n",
      "CRITICAL:sliderule.sliderule:http://54.213.230.113 encountered consecutive error 3\n",
      "CRITICAL:sliderule.sliderule:http://54.184.138.4 encountered consecutive error 1\n",
      "CRITICAL:sliderule.sliderule:http://34.212.131.26 encountered consecutive error 4\n",
      "CRITICAL:sliderule.sliderule:http://54.213.230.113 encountered consecutive error 4\n",
      "CRITICAL:sliderule.sliderule:http://54.184.138.4 encountered consecutive error 1\n",
      "CRITICAL:sliderule.sliderule:http://54.184.138.4 encountered consecutive error 2\n",
      "CRITICAL:sliderule.sliderule:http://54.184.138.4 encountered consecutive error 1\n",
      "CRITICAL:sliderule.sliderule:http://54.184.138.4 encountered consecutive error 2\n",
      "CRITICAL:sliderule.sliderule:http://54.184.138.4 encountered consecutive error 1\n",
      "CRITICAL:sliderule.sliderule:http://54.184.138.4 encountered consecutive error 2\n",
      "CRITICAL:sliderule.sliderule:http://54.184.138.4 encountered consecutive error 3\n",
      "CRITICAL:sliderule.sliderule:http://34.222.218.45 encountered consecutive error 1\n",
      "CRITICAL:sliderule.sliderule:http://54.184.138.4 encountered consecutive error 4\n",
      "CRITICAL:sliderule.sliderule:http://34.222.218.45 encountered consecutive error 1\n"
     ]
    },
    {
     "name": "stdout",
     "output_type": "stream",
     "text": [
      "Completed in 39.256 seconds of wall-clock time\n",
      "Received 2708 elevations\n"
     ]
    }
   ],
   "source": [
    "# Latch Start Time\n",
    "perf_start = time.perf_counter()\n",
    "\n",
    "# Request ATL06 Data\n",
    "atl06_sr = icesat2.atl06p(parms)\n",
    "\n",
    "# Latch Stop Time\n",
    "perf_stop = time.perf_counter()\n",
    "\n",
    "# Display Statistics\n",
    "perf_duration = perf_stop - perf_start\n",
    "print(\"Completed in {:.3f} seconds of wall-clock time\".format(perf_duration))\n",
    "#print(\"Reference Ground Tracks: {}\".format(atl06_sr[\"rgt\"].unique()))\n",
    "#print(\"Cycles: {}\".format(atl06_sr[\"cycle\"].unique()))\n",
    "print(\"Received {} elevations\".format(atl06_sr.shape[0]))"
   ]
  },
  {
   "cell_type": "markdown",
   "id": "c7c141ca",
   "metadata": {},
   "source": [
    "## Plot ATL06-SR Results"
   ]
  },
  {
   "cell_type": "code",
   "execution_count": null,
   "id": "6800cb28",
   "metadata": {},
   "outputs": [],
   "source": [
    "f, ax = plt.subplots()\n",
    "ax.set_title(\"ATL06-SR Points\")\n",
    "ax.set_aspect('equal')\n",
    "atl06_sr.plot(ax=ax, column='h_mean', cmap='inferno', s=0.1)\n",
    "ax.plot(region_lon, region_lat, linewidth=1, color='g');"
   ]
  },
  {
   "cell_type": "code",
   "execution_count": null,
   "id": "b633ec89",
   "metadata": {},
   "outputs": [],
   "source": [
    "atl06_sr['Latitude'] = atl06_sr['geometry'].x\n",
    "atl06_sr['Longitude'] = atl06_sr['geometry'].y\n",
    "atl06_sr.head()"
   ]
  },
  {
   "cell_type": "markdown",
   "id": "1a407769",
   "metadata": {},
   "source": [
    "## Write CSV"
   ]
  },
  {
   "cell_type": "code",
   "execution_count": null,
   "id": "729f0e80",
   "metadata": {},
   "outputs": [],
   "source": [
    "atl06_sr.to_csv(\"DryCreek/DCEW-ICESat2-ATL06sr-atl08class.csv\")"
   ]
  },
  {
   "cell_type": "code",
   "execution_count": null,
   "id": "b5cf8a4a",
   "metadata": {},
   "outputs": [],
   "source": []
  }
 ],
 "metadata": {
  "kernelspec": {
   "display_name": "Python 3 (ipykernel)",
   "language": "python",
   "name": "python3"
  },
  "language_info": {
   "codemirror_mode": {
    "name": "ipython",
    "version": 3
   },
   "file_extension": ".py",
   "mimetype": "text/x-python",
   "name": "python",
   "nbconvert_exporter": "python",
   "pygments_lexer": "ipython3",
   "version": "3.8.13"
  }
 },
 "nbformat": 4,
 "nbformat_minor": 5
}
